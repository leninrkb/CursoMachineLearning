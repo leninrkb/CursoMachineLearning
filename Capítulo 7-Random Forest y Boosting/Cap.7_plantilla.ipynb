{
 "cells": [
  {
   "cell_type": "markdown",
   "id": "fef2305a",
   "metadata": {},
   "source": [
    "# Capítulo 7. Aprendizaje en Conjunto y Random Forest"
   ]
  },
  {
   "cell_type": "markdown",
   "id": "e2713d5e-a6d1-4096-977d-cb263dbf75c9",
   "metadata": {},
   "source": [
    "## <span style=\"color:green\">1.Clasificador de Votaciones </span>"
   ]
  },
  {
   "cell_type": "code",
   "execution_count": 2,
   "id": "fb2054af-cd41-402b-b9b4-0e24ce920215",
   "metadata": {},
   "outputs": [],
   "source": [
    "#Importa las librerías, por favor y gracias <3"
   ]
  },
  {
   "cell_type": "code",
   "execution_count": 3,
   "id": "7fec6406",
   "metadata": {},
   "outputs": [],
   "source": [
    "#Importa los clasificadores\n",
    "\n",
    "#Este no lo conocían, se los presento\n",
    "#Este VotingClassifier va a recibir los modelos y va a contar los votos de los resultados (como el INE para los mexas)\n"
   ]
  },
  {
   "cell_type": "code",
   "execution_count": 4,
   "id": "25136a5e",
   "metadata": {},
   "outputs": [],
   "source": [
    "#Trae el set de datos\n",
    "#candidates = {'gmat': [780,750,690,710,680,730,690,720,740,690,610,690,710,680,770,610,580,650,540,590,620,600,550,550,570,670,660,580,650,660,640,620,660,660,680,650,670,580,590,690],\n",
    "            #  'gpa': [4,3.9,3.3,3.7,3.9,3.7,2.3,3.3,3.3,1.7,2.7,3.7,3.7,3.3,3.3,3,2.7,3.7,2.7,2.3,3.3,2,2.3,2.7,3,3.3,3.7,2.3,3.7,3.3,3,2.7,4,3.3,3.3,2.3,2.7,3.3,1.7,3.7],\n",
    "            #  'work_experience': [3,4,3,5,4,6,1,4,5,1,3,5,6,4,3,1,4,6,2,3,2,1,4,1,2,6,4,2,6,5,1,2,4,6,5,1,2,1,4,5],\n",
    "            #  'admitted': [1,1,0,1,0,1,0,1,1,0,0,1,1,0,1,0,0,1,0,0,1,0,0,0,0,1,1,0,1,1,0,0,1,1,1,0,0,0,0,1]\n",
    "            #  }\n",
    "#Es sencillo pero, es trabajo honesto\n"
   ]
  },
  {
   "cell_type": "code",
   "execution_count": 5,
   "id": "f1082a46",
   "metadata": {},
   "outputs": [],
   "source": [
    "#Dividir el dataframe en dos: los datos a predecir y los datos predichos\n"
   ]
  },
  {
   "cell_type": "code",
   "execution_count": 6,
   "id": "c98a2bfe-a89b-4870-a84d-0e9052614246",
   "metadata": {},
   "outputs": [],
   "source": [
    "#Importa el train_test_split\n",
    "\n",
    "#Divide los datos"
   ]
  },
  {
   "cell_type": "code",
   "execution_count": 8,
   "id": "a4c65958",
   "metadata": {},
   "outputs": [],
   "source": [
    "#Entrena los modelos\n",
    "    #Genera los objetos\n",
    "\n",
    "    #Establece una profundidad máxima de 2 en el árbol de decisión\n"
   ]
  },
  {
   "cell_type": "code",
   "execution_count": 9,
   "id": "52059602",
   "metadata": {},
   "outputs": [],
   "source": [
    "#Genera un objeto para el votingClassifier"
   ]
  },
  {
   "cell_type": "markdown",
   "id": "18526e47-02d0-48d2-be85-03de1cc32f26",
   "metadata": {},
   "source": [
    "En caso de querer una votación suave, poner en voting=\"Soft\" (más adelante se ejemplifica)"
   ]
  },
  {
   "cell_type": "code",
   "execution_count": 10,
   "id": "6b0099ae",
   "metadata": {},
   "outputs": [],
   "source": [
    "#Calcular la exactitud de los modelos con accuracy_score\n",
    "\n",
    "#Ciclar a tráves de los 3 modelos que estamos desarrolando \n",
    "\n",
    "    #Ajustar\n",
    "\n",
    "    #Predecir los datos del x_test \n",
    "\n",
    "        #Arrojar el puntaje de exactitud \n"
   ]
  },
  {
   "cell_type": "code",
   "execution_count": 11,
   "id": "18402c9c-653a-4ea8-b4d9-e4724e071981",
   "metadata": {},
   "outputs": [],
   "source": [
    "#En caso de querer un margen suave se tiene que hacer ciertas modificaciones\n",
    "\n",
    "#Calcular la exactitud de los modelos con accuracy_score\n",
    "\n",
    "#Ciclar a tráves de los 3 modelos que estamos desarrolando \n",
    "\n",
    "    #Ajustar\n",
    "\n",
    "    #Predecir los datos del x_test \n",
    "\n",
    "    \n",
    "        #Arrojar el puntaje de exactitud \n"
   ]
  },
  {
   "cell_type": "markdown",
   "id": "32c3edf5-465c-422e-9937-c1ef93ef1d8d",
   "metadata": {},
   "source": [
    "***"
   ]
  },
  {
   "cell_type": "markdown",
   "id": "ad3f16ec-1504-4c75-9b37-3f9e3b9a8d30",
   "metadata": {},
   "source": [
    "## <span style=\"color:green\">2. Bagging y Pasting </span>"
   ]
  },
  {
   "cell_type": "code",
   "execution_count": 12,
   "id": "e6e759e6",
   "metadata": {},
   "outputs": [],
   "source": [
    "# Importar el clasificador BaggingClassifier\n",
    "\n",
    "#Genera el objeto a raíz de un árbol de decisión (puede ser el que quieran)\n",
    "\n",
    "                           #cantidad de (en este caso) árboles de decisión \n",
    "      \n",
    "                            #La cantidad de datos que tomará de una muestra\n",
    "                \n",
    "                           #Bagging=True; Pasting=False\n",
    "\n",
    "#Aunque dará un puntaje similar al clasificador de votaciones, esto se debe al set de datos pequeño.\n"
   ]
  },
  {
   "cell_type": "code",
   "execution_count": 13,
   "id": "18cfcd7a",
   "metadata": {},
   "outputs": [],
   "source": [
    "#Hacer el ejemplo con pasting pero utilizar ahora SVC\n"
   ]
  },
  {
   "cell_type": "markdown",
   "id": "28824b9e-4165-4ea8-b13e-0938f390fd41",
   "metadata": {},
   "source": [
    "Pasting no suele ser utilizado en ejemplos reales. El puntaje de exactitud evidencia que es un pésimo modelo ❌ "
   ]
  },
  {
   "cell_type": "markdown",
   "id": "ac40368f-94c6-4f23-95bd-a46bb11e3c3a",
   "metadata": {},
   "source": [
    "***"
   ]
  },
  {
   "cell_type": "markdown",
   "id": "85410bce",
   "metadata": {},
   "source": [
    "### <span style=\"color:blue\">2.1 Evaluación Out-of-Bag  </span>"
   ]
  },
  {
   "cell_type": "code",
   "execution_count": 14,
   "id": "86fa0883",
   "metadata": {},
   "outputs": [],
   "source": [
    "#Importar BaggingClassifier\n",
    "\n",
    "                            #Poner oob_score=True para poder hacer la evaluación\n",
    "        \n",
    "#Ajustar\n",
    "\n",
    "#Visualiza el puntaje OOB\n"
   ]
  },
  {
   "cell_type": "markdown",
   "id": "d41ba6b0-fef1-468d-8f7e-c1d9e3b11617",
   "metadata": {},
   "source": [
    "Este puntaje es un parámetro extra, puedes concluir si hay o no un ajuste con base a los parámetros que ya sacaste y el puntaje OOB 💯."
   ]
  },
  {
   "cell_type": "markdown",
   "id": "8a5fa093-a7d5-414c-baae-3a64a5b57fcb",
   "metadata": {},
   "source": [
    "***"
   ]
  },
  {
   "cell_type": "markdown",
   "id": "c93cac2e-396d-43a1-808c-10b74abdfcaf",
   "metadata": {},
   "source": [
    "## <span style=\"color:green\">3. Random Subspace </span>"
   ]
  },
  {
   "cell_type": "code",
   "execution_count": 16,
   "id": "bd1d44b7",
   "metadata": {},
   "outputs": [],
   "source": [
    "#Hacer un Bagging como los anteriores\n",
    "\n",
    "                            #Max_features le dice que solo tomará 2 variables\n",
    "                       \n",
    "#Ajustar\n"
   ]
  },
  {
   "cell_type": "code",
   "execution_count": 17,
   "id": "c9d0ec76-0bb1-4231-8eb6-4103d64a48ff",
   "metadata": {},
   "outputs": [],
   "source": [
    "#Visualizar el puntaje de exactitud\n"
   ]
  },
  {
   "cell_type": "markdown",
   "id": "846b2873",
   "metadata": {},
   "source": [
    "## <span style=\"color:green\">4. Random Forest </span>"
   ]
  },
  {
   "cell_type": "code",
   "execution_count": 18,
   "id": "653fe19d",
   "metadata": {},
   "outputs": [],
   "source": [
    "#Importar RandomForestClassifier\n",
    "\n",
    "#Hacer RandomForestClassifier, establecer los parámetros similares al bagging\n",
    "\n",
    "             "
   ]
  },
  {
   "cell_type": "code",
   "execution_count": 19,
   "id": "c94913c6-da7a-4e48-8c0a-36d06e1c810c",
   "metadata": {},
   "outputs": [],
   "source": [
    "#Hacer el ajuste\n"
   ]
  },
  {
   "cell_type": "code",
   "execution_count": 20,
   "id": "26d3e731-7497-49b6-b73e-8cbe53f4914e",
   "metadata": {},
   "outputs": [],
   "source": [
    "#Hacer las predicciones\n"
   ]
  },
  {
   "cell_type": "code",
   "execution_count": 21,
   "id": "5a628dd3-2429-4372-abed-635ae4ae04c5",
   "metadata": {},
   "outputs": [],
   "source": [
    "#Visualiza el puntaje \n"
   ]
  },
  {
   "cell_type": "markdown",
   "id": "2c226278-5a64-4dc0-a4d3-4082ab83bf4e",
   "metadata": {},
   "source": [
    "En el futuro, no les pedirán bagging, se prefiere utilizar Random Forest🌳"
   ]
  },
  {
   "cell_type": "markdown",
   "id": "d64d353e",
   "metadata": {},
   "source": [
    "### <span style=\"color:blue\">4.1 Predictores </span>"
   ]
  },
  {
   "cell_type": "code",
   "execution_count": 22,
   "id": "df4643cc",
   "metadata": {},
   "outputs": [],
   "source": [
    "#Realiza el árbol de manera aleatoria\n",
    "\n",
    "#Despliega los parámetros importantes o predictores\n"
   ]
  },
  {
   "cell_type": "markdown",
   "id": "8cb70dbd-53fa-410c-b10f-b1ed82ad7b02",
   "metadata": {},
   "source": [
    "El valor que arroja en cada variable es equivalente al nivel de importancia de la misma. En este caso el **gpa** es la variable que tiene mayor peso en la decisión"
   ]
  },
  {
   "cell_type": "markdown",
   "id": "94ba27ae",
   "metadata": {},
   "source": [
    "## <span style=\"color:green\">5. Boosting </span>"
   ]
  },
  {
   "cell_type": "markdown",
   "id": "695372ac",
   "metadata": {},
   "source": [
    "### <span style=\"color:blue\">5.1 Adaboost </span>"
   ]
  },
  {
   "cell_type": "code",
   "execution_count": 23,
   "id": "8f6553bb",
   "metadata": {},
   "outputs": [],
   "source": [
    "#Importar AdaBoostClassifier\n",
    "\n",
    "#Crear objeto de Adaboost con árboles de decisiones  \n"
   ]
  },
  {
   "cell_type": "code",
   "execution_count": 24,
   "id": "ed5de98d-7d62-4362-82cd-70af17bb877a",
   "metadata": {},
   "outputs": [],
   "source": [
    "#Calcular el puntaje de exactitud para adaboost\n"
   ]
  },
  {
   "cell_type": "markdown",
   "id": "78ca6697",
   "metadata": {},
   "source": [
    "### <span style=\"color:blue\">5.2 Boosting con Gradiente </span>"
   ]
  },
  {
   "cell_type": "code",
   "execution_count": 25,
   "id": "982dadee",
   "metadata": {},
   "outputs": [],
   "source": [
    "#Crear un set de datos, especificamente una parábola para una mejor visualización \n"
   ]
  },
  {
   "cell_type": "code",
   "execution_count": 26,
   "id": "3621fb93",
   "metadata": {},
   "outputs": [],
   "source": [
    "#Crear el primer predictor, utiliza árboles de decisiones y regularizalo con un max_depth=2\n"
   ]
  },
  {
   "cell_type": "code",
   "execution_count": 27,
   "id": "f7226a5b",
   "metadata": {},
   "outputs": [],
   "source": [
    "#Calcular los errores residuales que \n",
    "#son la diferencia entre las predicciones del modelo y el valor de la variable a predecir\n"
   ]
  },
  {
   "cell_type": "code",
   "execution_count": 28,
   "id": "88786d53-5b70-4b3e-9a69-d27d79c88128",
   "metadata": {},
   "outputs": [],
   "source": [
    "#crear el segundo predictor en base a esos residuales.\n"
   ]
  },
  {
   "cell_type": "code",
   "execution_count": 29,
   "id": "9d77214b",
   "metadata": {},
   "outputs": [],
   "source": [
    "#Visualizar que sucede si sumamos las predicciones del primer predictor con el segundo\n"
   ]
  },
  {
   "cell_type": "code",
   "execution_count": 30,
   "id": "3900c3ca",
   "metadata": {},
   "outputs": [],
   "source": [
    "#Repetir el mismo procedimiento para crear el árbol 3.\n"
   ]
  },
  {
   "cell_type": "code",
   "execution_count": 31,
   "id": "e1272dc8",
   "metadata": {},
   "outputs": [],
   "source": [
    "#Ahora vamos a ver que sucede si sumamos los 3 árboles\n"
   ]
  },
  {
   "cell_type": "code",
   "execution_count": 32,
   "id": "eb9509cf",
   "metadata": {},
   "outputs": [],
   "source": [
    "#Crear exactamente el mismo modelo que creamos antes\n"
   ]
  },
  {
   "cell_type": "code",
   "execution_count": 33,
   "id": "53acbdd9",
   "metadata": {},
   "outputs": [],
   "source": [
    "#En este caso utilizaremos el error medio cuadrado.\n"
   ]
  },
  {
   "cell_type": "markdown",
   "id": "c550c62a-c6f0-4b0c-a2ed-e7396bb12e4c",
   "metadata": {},
   "source": [
    "En este caso el mejor caso es en **56** de los 120 árboles que probamos por lo que deberíamos crear nuestro modelo con 56 árboles de decisión."
   ]
  },
  {
   "cell_type": "code",
   "execution_count": 34,
   "id": "f23683d5",
   "metadata": {},
   "outputs": [],
   "source": [
    "#Evaluar el early stopping automáticamente con XGBRegressor\n"
   ]
  },
  {
   "cell_type": "code",
   "execution_count": 35,
   "id": "d6f24924",
   "metadata": {},
   "outputs": [],
   "source": [
    "#"
   ]
  },
  {
   "cell_type": "markdown",
   "id": "5ef37226",
   "metadata": {},
   "source": [
    "## <span style=\"color:green\">6. Stacking </span>"
   ]
  },
  {
   "cell_type": "code",
   "execution_count": 36,
   "id": "e8cee535",
   "metadata": {},
   "outputs": [],
   "source": [
    "#Importa los regresores necesarios StackingRegressor,LinearRegression, RandomForestRegressor\n",
    "\n",
    "\n",
    "\n",
    "#Generar la regresión lineal\n",
    "\n",
    "#Generar el bosque aleatorio\n",
    "\n",
    "#Genera los tres modelos \n",
    "\n",
    "#Utiliza Stacking\n"
   ]
  },
  {
   "cell_type": "code",
   "execution_count": null,
   "id": "ced07917-608c-49a9-b5dd-8bcdbeaa94e2",
   "metadata": {},
   "outputs": [],
   "source": []
  }
 ],
 "metadata": {
  "kernelspec": {
   "display_name": "Python 3 (ipykernel)",
   "language": "python",
   "name": "python3"
  },
  "language_info": {
   "codemirror_mode": {
    "name": "ipython",
    "version": 3
   },
   "file_extension": ".py",
   "mimetype": "text/x-python",
   "name": "python",
   "nbconvert_exporter": "python",
   "pygments_lexer": "ipython3",
   "version": "3.9.7"
  }
 },
 "nbformat": 4,
 "nbformat_minor": 5
}
