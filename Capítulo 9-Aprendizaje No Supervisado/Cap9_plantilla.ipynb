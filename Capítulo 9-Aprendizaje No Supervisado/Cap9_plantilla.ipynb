{
 "cells": [
  {
   "cell_type": "markdown",
   "id": "953acf87-2739-4550-b0b9-56d78ad9be0f",
   "metadata": {},
   "source": [
    "# Capítulo 9: Técnicas de Aprendizaje No Supervisado"
   ]
  },
  {
   "cell_type": "markdown",
   "id": "5ad124e7-2544-4661-8a8a-ec09aeb03fb6",
   "metadata": {},
   "source": [
    "Error de novatos no importar las librerías 😅. \n",
    "Mucho ojo aquí 👀, estas son lo que necesitarás: "
   ]
  },
  {
   "cell_type": "code",
   "execution_count": null,
   "id": "155ff7dd-7bd7-429f-8c0c-d23c8aa0f1ce",
   "metadata": {},
   "outputs": [],
   "source": [
    "#Pandas, Numpy, Matplotlib, Os"
   ]
  },
  {
   "cell_type": "markdown",
   "id": "b007d0a9-d336-4e97-b8f4-ab796a1f6349",
   "metadata": {},
   "source": [
    "## <span style=\"color:green\">1. Clustering</span>"
   ]
  },
  {
   "cell_type": "markdown",
   "id": "48150af5-1dfa-4900-9dab-ac2dc8a9870e",
   "metadata": {},
   "source": [
    "#### <span style=\"color:blue\"> 1.1 K-means</span>"
   ]
  },
  {
   "cell_type": "markdown",
   "id": "3c1ef4eb-bbc9-4fbe-be61-cba45b4ada55",
   "metadata": {},
   "source": [
    "K-Means es uno de los algoritmos de clustering más sencillo de utilizar 🥳, aunque tiene sus limitaciones 😥.\n",
    "\n",
    "Los datos tienen que estar: relativamente cirulares y poseer grupos de tamaños similares"
   ]
  },
  {
   "cell_type": "code",
   "execution_count": null,
   "id": "fd51f6e3-5e32-48d0-9764-9299f0901668",
   "metadata": {},
   "outputs": [],
   "source": [
    "#Genera tu set de datos con make_blobs"
   ]
  },
  {
   "cell_type": "code",
   "execution_count": null,
   "id": "819e24ce-6bdf-4af3-9894-520c7fc91231",
   "metadata": {},
   "outputs": [],
   "source": [
    "#Utilizar el algoritmo de k-means que proporciona python"
   ]
  },
  {
   "cell_type": "code",
   "execution_count": null,
   "id": "5a01398f-b8b8-48f4-964a-de1fea816ef0",
   "metadata": {},
   "outputs": [],
   "source": [
    "#Visualiza una parte de los datos como ejemplo"
   ]
  },
  {
   "cell_type": "code",
   "execution_count": null,
   "id": "e886e8b1-8056-4b51-b102-9a44eb625d59",
   "metadata": {},
   "outputs": [],
   "source": [
    "#Visualiza a qué cluster pertenecen esos datos"
   ]
  },
  {
   "cell_type": "code",
   "execution_count": null,
   "id": "7218d1b5-ad11-4d53-8b41-789a74f78d1b",
   "metadata": {},
   "outputs": [],
   "source": [
    "#Visualizar los centros de gravedad de cada cluster"
   ]
  },
  {
   "cell_type": "code",
   "execution_count": null,
   "id": "8df66cbf-92f1-4868-a18a-9b312adeb831",
   "metadata": {},
   "outputs": [],
   "source": [
    "#Dibuja una gráfica donde cada cluster aparece de un color diferente con su respectivo centroide"
   ]
  },
  {
   "cell_type": "code",
   "execution_count": null,
   "id": "270d3d88-cc7a-421f-affb-401b7481df14",
   "metadata": {},
   "outputs": [],
   "source": [
    "#Visualiza la distancia de cada instancia a cada uno de los centroides"
   ]
  },
  {
   "cell_type": "markdown",
   "id": "41cde809-9f2b-4352-8526-6a3a27d0a05a",
   "metadata": {},
   "source": [
    "***"
   ]
  },
  {
   "cell_type": "code",
   "execution_count": null,
   "id": "43464be5-f02f-45dd-bfd6-167c378c14be",
   "metadata": {},
   "outputs": [],
   "source": [
    "#Crear un array para inicializar los centroides"
   ]
  },
  {
   "cell_type": "code",
   "execution_count": null,
   "id": "d49bcf7c-93bc-4a05-a8c1-f80a1eec0e18",
   "metadata": {},
   "outputs": [],
   "source": [
    "#Utiliza Kmeans e inicializa tus centroides con el array de arriba"
   ]
  },
  {
   "cell_type": "code",
   "execution_count": null,
   "id": "f87b3976-b419-482d-b009-ecff8fc1484e",
   "metadata": {},
   "outputs": [],
   "source": [
    "#Checar las predicciones que arroja tu algoritmo anterior"
   ]
  },
  {
   "cell_type": "code",
   "execution_count": null,
   "id": "b434330f-f500-424e-80ff-3a7952bc2121",
   "metadata": {},
   "outputs": [],
   "source": [
    "#Visualiza los centros de gravedad de cada cluster"
   ]
  },
  {
   "cell_type": "code",
   "execution_count": null,
   "id": "6c3692ea-ac93-4ec7-97b4-615eca5c5b67",
   "metadata": {},
   "outputs": [],
   "source": [
    "#Dibuja una gráfica donde cada cluster aparece de un color diferente con su respectivo centroide"
   ]
  },
  {
   "cell_type": "code",
   "execution_count": null,
   "id": "030fe723-d50b-4011-8349-efdf361f8e59",
   "metadata": {},
   "outputs": [],
   "source": [
    "#Presenta la inercia del algoritmo "
   ]
  },
  {
   "cell_type": "code",
   "execution_count": null,
   "id": "5dac8610-b3e3-4626-bbd8-930352f53339",
   "metadata": {},
   "outputs": [],
   "source": [
    "#Presenta el puntaje del algoritmo (score)"
   ]
  },
  {
   "cell_type": "markdown",
   "id": "ffe920f1-e382-4dd0-9124-063708cd2300",
   "metadata": {},
   "source": [
    "***"
   ]
  },
  {
   "cell_type": "markdown",
   "id": "93712b82-afe1-4f19-8931-128451b3829b",
   "metadata": {},
   "source": [
    "#### <span style=\"color:blue\"> 1.2 Mini-Batch K-Means</span>"
   ]
  },
  {
   "cell_type": "markdown",
   "id": "1c0e3fe8-cf82-4387-b1ad-6ea2a1e37194",
   "metadata": {},
   "source": [
    "Es básicamente el mismo algoritmo de K-Means pero corre los datos en pequeños lotes. Esto es ideal para datos en línea o bases de datos extensas. \n",
    "\n",
    "Aunque da resultados similares al K-Means, pierdes fidelidad"
   ]
  },
  {
   "cell_type": "code",
   "execution_count": null,
   "id": "f5359f26-91d6-4a44-968d-09b44c7be01d",
   "metadata": {},
   "outputs": [],
   "source": [
    "#Importar de Sklearn.Cluster el algoritmo de MiniBatchKmeans\n",
    "#Te puede salir un warning pero no afecta en el proceso "
   ]
  },
  {
   "cell_type": "code",
   "execution_count": null,
   "id": "29c0d5be-e618-45ba-95fa-a8b1011fe1c2",
   "metadata": {},
   "outputs": [],
   "source": [
    "#Presenta el puntaje del algoritmo (score)"
   ]
  },
  {
   "cell_type": "markdown",
   "id": "a744abee-6b5d-4f52-bdfb-f7256c07388a",
   "metadata": {},
   "source": [
    "***"
   ]
  },
  {
   "cell_type": "code",
   "execution_count": null,
   "id": "b55ff8ed-4c2a-4580-8cbf-12335b1f8eb0",
   "metadata": {},
   "outputs": [],
   "source": [
    "#Corre el algoritmo limpio del inicio, presentar las predicciones y la inercia del mismo. "
   ]
  },
  {
   "cell_type": "code",
   "execution_count": null,
   "id": "ab12806a-dff5-4773-ac88-100dc2bf3924",
   "metadata": {},
   "outputs": [],
   "source": [
    "# Toma el algoritmo del inicio para calcular las inercias cuando se utiliza de 1 a 9 clusters"
   ]
  },
  {
   "cell_type": "code",
   "execution_count": null,
   "id": "7e8893ac-351f-4da3-bcc3-df7a1071921e",
   "metadata": {},
   "outputs": [],
   "source": [
    "#Grafica las inercias anteriores"
   ]
  },
  {
   "cell_type": "code",
   "execution_count": null,
   "id": "703f9be8-0cd2-465d-9a0f-98ba70ff5aa8",
   "metadata": {},
   "outputs": [],
   "source": [
    "#Obtenen el coeficiente de silueta"
   ]
  },
  {
   "cell_type": "code",
   "execution_count": null,
   "id": "92f8fb83-5b7e-4b8d-b07b-1ab0c16aeaf4",
   "metadata": {},
   "outputs": [],
   "source": [
    "#Ejecuta el algoritmo varias veces con diferentes clusters y obtenen sus coeficientes de silueta"
   ]
  },
  {
   "cell_type": "code",
   "execution_count": null,
   "id": "58f2ca6f-6181-434e-9e28-4d23b5269b39",
   "metadata": {},
   "outputs": [],
   "source": [
    "#Grafica los coeficientes de silueta"
   ]
  },
  {
   "cell_type": "code",
   "execution_count": null,
   "id": "b944372e-2a90-4583-b6c1-03ca4ad16bd7",
   "metadata": {},
   "outputs": [],
   "source": [
    "#Realiza el diagrama de silueta "
   ]
  },
  {
   "cell_type": "markdown",
   "id": "716d723b-634d-4d16-a2a5-a72ce6099b57",
   "metadata": {},
   "source": [
    "***"
   ]
  },
  {
   "cell_type": "markdown",
   "id": "2dd732ae-28de-43b8-bae7-e768f9f478fb",
   "metadata": {},
   "source": [
    "#### <span style=\"color:blue\"> 1.3 Segmentación de Imágenes</span>"
   ]
  },
  {
   "cell_type": "markdown",
   "id": "9465a836-207e-4753-900b-62ea60fc5a3d",
   "metadata": {},
   "source": [
    "La segmentación de imágenes es un ejemplo de aplicación del clustering. \n",
    "\n",
    "\n",
    "Existen diferentes niveles de segmentación, entre ellos está la segmentación semántica, segmentación por instancia y segmentación de imágenes por color."
   ]
  },
  {
   "cell_type": "code",
   "execution_count": null,
   "id": "a24f7b5a-3dbc-4b80-b212-21d64e3c162c",
   "metadata": {},
   "outputs": [],
   "source": [
    "#Importa imread\n",
    "#Lee la imagen de la pelota de tenis"
   ]
  },
  {
   "cell_type": "code",
   "execution_count": null,
   "id": "aece1ec5-5bd3-4cdd-8160-2fafb38a9938",
   "metadata": {},
   "outputs": [],
   "source": [
    "#Muestra la imagen"
   ]
  },
  {
   "cell_type": "code",
   "execution_count": null,
   "id": "a3fe6503-925b-4246-9e41-963fff98842f",
   "metadata": {},
   "outputs": [],
   "source": [
    "#Cambia la forma a la imagen para que K-means pueda correrlo\n",
    "#Corre el algoritmo de K-Means"
   ]
  },
  {
   "cell_type": "code",
   "execution_count": null,
   "id": "dfc70317-a6aa-4199-98aa-26b712259011",
   "metadata": {},
   "outputs": [],
   "source": [
    "#Varía el valor de k "
   ]
  },
  {
   "cell_type": "markdown",
   "id": "05a91529-2e9b-45b5-8ff5-af96ef26fe2f",
   "metadata": {},
   "source": [
    "***"
   ]
  },
  {
   "cell_type": "markdown",
   "id": "1bf8662d-49b3-49ef-9066-21aa508361c9",
   "metadata": {},
   "source": [
    "#### <span style=\"color:blue\"> 1.4 Clustering con Preprocesamiento</span>"
   ]
  },
  {
   "cell_type": "code",
   "execution_count": null,
   "id": "bbc02636-eb48-4e93-9990-5db4d2391d96",
   "metadata": {},
   "outputs": [],
   "source": [
    "#Importa los dígitos de MNIST desde Sklearn \n",
    "#Asigna las variables x, y"
   ]
  },
  {
   "cell_type": "code",
   "execution_count": null,
   "id": "8482d1ba-f1e7-4a5b-8e0f-d2fe2b9d1d43",
   "metadata": {},
   "outputs": [],
   "source": [
    "#Importa train_test_split"
   ]
  },
  {
   "cell_type": "code",
   "execution_count": null,
   "id": "30a76e71-98f7-45a4-aecb-1ad9447e87d9",
   "metadata": {},
   "outputs": [],
   "source": [
    "#Arma una regresión logística"
   ]
  },
  {
   "cell_type": "code",
   "execution_count": null,
   "id": "73a5f091-319c-4c0c-b80d-642b19bd5c5c",
   "metadata": {},
   "outputs": [],
   "source": [
    "#Despliega el puntaje de la regresión (log.score)"
   ]
  },
  {
   "cell_type": "code",
   "execution_count": null,
   "id": "9c0d8152-b398-49aa-b273-258ac139480c",
   "metadata": {},
   "outputs": [],
   "source": [
    "#Arma un pipeline que incluya el algoritmo de K-Means"
   ]
  },
  {
   "cell_type": "code",
   "execution_count": null,
   "id": "8a302655-c405-438f-8cf3-4782d2f0444b",
   "metadata": {},
   "outputs": [],
   "source": [
    "#Despliega el puntaje del pipeline anterior"
   ]
  },
  {
   "cell_type": "code",
   "execution_count": null,
   "id": "6d477764-cd77-436c-91d1-21e87a603308",
   "metadata": {},
   "outputs": [],
   "source": [
    "#Arma un GridSearch para identificar con cuántos clusters se puede correr"
   ]
  },
  {
   "cell_type": "code",
   "execution_count": null,
   "id": "5be4688b-f54c-4d33-ab3b-42e968d5e264",
   "metadata": {},
   "outputs": [],
   "source": [
    "#Obtene el mejor parámetro con grid.best_params_"
   ]
  },
  {
   "cell_type": "code",
   "execution_count": null,
   "id": "642adfb0-2d2d-4985-ac71-2f54ab08ed4e",
   "metadata": {},
   "outputs": [],
   "source": [
    "#Obtene el puntaje del GridSearch (Grid.score)"
   ]
  },
  {
   "cell_type": "markdown",
   "id": "dc573117-10c7-401f-864a-20bef9b6d4b2",
   "metadata": {},
   "source": [
    "***"
   ]
  },
  {
   "cell_type": "markdown",
   "id": "db1bd968-9227-49ef-881d-b7b8bb42b0e4",
   "metadata": {},
   "source": [
    "#### <span style=\"color:blue\"> 1.4 DBSCAN</span>"
   ]
  },
  {
   "cell_type": "markdown",
   "id": "8d2e5188-227a-4a5d-9370-d88227b17467",
   "metadata": {},
   "source": [
    "Puede funcionar cuando K-Means esta limitado. Este algoritmo define los clusters como regiones continuas de alta densidad."
   ]
  },
  {
   "cell_type": "code",
   "execution_count": null,
   "id": "de0fb182-8de1-4c44-8a60-893aff45b639",
   "metadata": {},
   "outputs": [],
   "source": [
    "#Crea set de datos con make_moons y graficarlo  "
   ]
  },
  {
   "cell_type": "code",
   "execution_count": null,
   "id": "8f17199c-9f0b-40b1-a316-7a7570b01ff7",
   "metadata": {},
   "outputs": [],
   "source": [
    "#Importa DBSCAN de Sklearn y correrlo"
   ]
  },
  {
   "cell_type": "code",
   "execution_count": null,
   "id": "02c087af-adce-4eae-b1b4-994110a8f019",
   "metadata": {},
   "outputs": [],
   "source": [
    "#Verifica como se hizo la agrupación de las instancias con la función labels_"
   ]
  },
  {
   "cell_type": "code",
   "execution_count": null,
   "id": "cf946b42-01c9-4a6b-acc3-70e4722c9af1",
   "metadata": {},
   "outputs": [],
   "source": [
    "#Modifica el parámetro epsilon del algoritmo DBSCAN"
   ]
  },
  {
   "cell_type": "code",
   "execution_count": null,
   "id": "afe0479f-7295-4599-a69c-39ad396d8c5a",
   "metadata": {},
   "outputs": [],
   "source": [
    "#Importa Kneighbors Classifier para clasificar los datos de DBSCAN "
   ]
  },
  {
   "cell_type": "code",
   "execution_count": null,
   "id": "21e7012d-1bc2-4ce7-ab57-f66ada0d15d8",
   "metadata": {},
   "outputs": [],
   "source": [
    "#predice las clasificación de datos aleatorios para ejemplificar el método "
   ]
  },
  {
   "cell_type": "markdown",
   "id": "e0de56ba-4541-4a7e-b36c-ca7673245416",
   "metadata": {},
   "source": [
    "***"
   ]
  },
  {
   "cell_type": "markdown",
   "id": "955cdd68-00b2-4d48-8133-23466f28d67a",
   "metadata": {},
   "source": [
    "### <span style=\"color:green\"> 2. Mezclas Gaussianas</span>"
   ]
  },
  {
   "cell_type": "markdown",
   "id": "1c76c948-fcbe-463e-b1a9-323033615d2d",
   "metadata": {},
   "source": [
    "Las Mezclas Gaussianas es la manera más robusta de hacer clusters 💪 pero, también es la más pesada."
   ]
  },
  {
   "cell_type": "code",
   "execution_count": null,
   "id": "61c6385b-e6ea-4aaf-949a-ce54c257a80f",
   "metadata": {},
   "outputs": [],
   "source": [
    "#Crea set de datos con make blobs y graficarlo"
   ]
  },
  {
   "cell_type": "code",
   "execution_count": null,
   "id": "230b56c1-aa3a-4c35-a745-205189f7a3da",
   "metadata": {},
   "outputs": [],
   "source": [
    "#Importa GaussianMixture de Sklearn"
   ]
  },
  {
   "cell_type": "code",
   "execution_count": null,
   "id": "a0a6378e-1ab1-40ff-bd15-a6d30b817daa",
   "metadata": {},
   "outputs": [],
   "source": [
    "#Genera GaussianMixture especificando los parámetros n_components y n_int"
   ]
  },
  {
   "cell_type": "code",
   "execution_count": null,
   "id": "2f57f053-5026-4a5e-867c-5d61f663d403",
   "metadata": {},
   "outputs": [],
   "source": [
    "#Obten los pesos que le asignó a los datos "
   ]
  },
  {
   "cell_type": "code",
   "execution_count": null,
   "id": "1822e234-b8f5-49be-baa8-3f7581f35c4a",
   "metadata": {},
   "outputs": [],
   "source": [
    "#Obten las medias de los datos"
   ]
  },
  {
   "cell_type": "code",
   "execution_count": null,
   "id": "262f2331-17d4-4af4-a282-233054913e18",
   "metadata": {},
   "outputs": [],
   "source": [
    "#Obten la matriz de covarianzas"
   ]
  },
  {
   "cell_type": "code",
   "execution_count": null,
   "id": "0c5f2632-5967-4711-b4f7-aaa6ca68e4c1",
   "metadata": {},
   "outputs": [],
   "source": [
    "#Verifca si convergió "
   ]
  },
  {
   "cell_type": "code",
   "execution_count": null,
   "id": "084db19f-9b93-403a-b822-306ea0e90b83",
   "metadata": {},
   "outputs": [],
   "source": [
    "#Obten el número de iteraciones"
   ]
  },
  {
   "cell_type": "code",
   "execution_count": null,
   "id": "e3129a9d-d430-49bd-9d50-c2c66200ffae",
   "metadata": {},
   "outputs": [],
   "source": [
    "#Predecé el cluster de los primeros 5 datos "
   ]
  },
  {
   "cell_type": "code",
   "execution_count": null,
   "id": "e6d044ba-0ce1-40e7-aa79-51a05db1f405",
   "metadata": {},
   "outputs": [],
   "source": [
    "#Obten las probabilidades de una clustering correcto de cada uno de los datos"
   ]
  },
  {
   "cell_type": "code",
   "execution_count": null,
   "id": "2089fc5d-eeec-4bfe-90ba-fb6800dcd971",
   "metadata": {},
   "outputs": [],
   "source": [
    "#Genera nuevos datos para evaluar la eficiencia del clasificador"
   ]
  },
  {
   "cell_type": "code",
   "execution_count": null,
   "id": "6f87ef12-99a6-4b3f-9eb7-c0de0919d879",
   "metadata": {},
   "outputs": [],
   "source": [
    "#Despliega los datos nuevos de x"
   ]
  },
  {
   "cell_type": "code",
   "execution_count": null,
   "id": "b93b22f7-9964-47b6-a0a9-89c116c6a58c",
   "metadata": {},
   "outputs": [],
   "source": [
    "#Clasifica los nuevos datos"
   ]
  },
  {
   "cell_type": "code",
   "execution_count": null,
   "id": "3cdcd713-c8f0-4a5a-b9e2-53921e2b53e7",
   "metadata": {},
   "outputs": [],
   "source": [
    "#Grafica los nuevos datos"
   ]
  },
  {
   "cell_type": "markdown",
   "id": "29792b63-ffbe-44bc-ae5b-e4ef10baf859",
   "metadata": {},
   "source": [
    "***"
   ]
  },
  {
   "cell_type": "markdown",
   "id": "5727c567-e1a2-4501-8aab-d8e40d54308b",
   "metadata": {},
   "source": [
    "Las anomalías son cualquier dato que se encuentre fuera de la zona de alta densidad."
   ]
  },
  {
   "cell_type": "code",
   "execution_count": null,
   "id": "a14e8190-4782-43a7-88fd-fe0f0df9b8c0",
   "metadata": {},
   "outputs": [],
   "source": [
    "#Obten los puntajes de cada una de las muestras"
   ]
  },
  {
   "cell_type": "code",
   "execution_count": null,
   "id": "bcef5de1-c840-4a62-8973-febd657ee49a",
   "metadata": {},
   "outputs": [],
   "source": [
    "#Convierte los puntajes en percentiles y conoce el resultado con percentil 4\n",
    "#Obten las anomalías que son menores al umbral de densidad que definiste\n",
    "#Visualiza las anomalías"
   ]
  },
  {
   "cell_type": "code",
   "execution_count": null,
   "id": "84765032-a877-4131-b164-eeb054b061b1",
   "metadata": {},
   "outputs": [],
   "source": [
    "#Varía el percentil"
   ]
  },
  {
   "cell_type": "markdown",
   "id": "47ccffde-4853-45ba-b355-9a8eafa9a5a1",
   "metadata": {},
   "source": [
    "***"
   ]
  },
  {
   "cell_type": "markdown",
   "id": "059fe936-3cfb-4642-b67f-abd8f950bf8f",
   "metadata": {},
   "source": [
    "#### <span style=\"color:blue\"> 2.1 Detección de Anomalías</span>"
   ]
  },
  {
   "attachments": {
    "b5921b81-4bba-48c9-a453-954ab079bf05.png": {
     "image/png": "[encoded data removed]"
    }
   },
   "cell_type": "markdown",
   "id": "3564c803-19d1-4ad2-bc58-e431f5b11bc2",
   "metadata": {},
   "source": [
    "\n",
    "![image.png](attachment:b5921b81-4bba-48c9-a453-954ab079bf05.png)"
   ]
  },
  {
   "attachments": {
    "5ad79f5f-285b-49a4-883a-8dff7c072219.png": {
     "image/png": "[encoded data removed]"
    }
   },
   "cell_type": "markdown",
   "id": "6d82c6ed-f909-4141-a63a-1ce3711556e3",
   "metadata": {},
   "source": [
    "![image.png](attachment:5ad79f5f-285b-49a4-883a-8dff7c072219.png)"
   ]
  },
  {
   "cell_type": "markdown",
   "id": "695b16cb-a96d-429c-b658-e32ccb547b01",
   "metadata": {},
   "source": [
    "m=número de instancias\n",
    "p=número de parámetros \n",
    "L= Verosimilitud"
   ]
  },
  {
   "cell_type": "code",
   "execution_count": null,
   "id": "8a173b9c-36c1-4e2d-80dd-2b2d56a40f13",
   "metadata": {},
   "outputs": [],
   "source": [
    "#calcula el BIC para los datos\n",
    "#calcula el AIC para los datos"
   ]
  },
  {
   "cell_type": "code",
   "execution_count": null,
   "id": "95de2d77-ac38-4462-8b6c-1bb644123031",
   "metadata": {},
   "outputs": [],
   "source": [
    "#Puedes hacer el GridSearch"
   ]
  },
  {
   "cell_type": "markdown",
   "id": "de38f8fd-9d14-4403-8fb8-21a2c9ba6cc4",
   "metadata": {},
   "source": [
    "***"
   ]
  },
  {
   "cell_type": "markdown",
   "id": "de00724d-8b34-4ba6-b97b-5ef123efc781",
   "metadata": {},
   "source": [
    "#### <span style=\"color:blue\"> 2.2 Modelo Bayesiano de Mezclas Gaussianas</span>"
   ]
  },
  {
   "cell_type": "markdown",
   "id": "b86c9e93-32a0-4a4a-9829-98772d62e41d",
   "metadata": {},
   "source": [
    "La única labor en este modelo es adivinar un número de clusters mayor al óptimo 🔮. \n",
    "\n",
    "\n",
    "Ojo: a los clusters que no sirven simplemente se les asignará el valor 0"
   ]
  },
  {
   "cell_type": "code",
   "execution_count": null,
   "id": "a50931a7-b9f7-48bc-8756-7149e8ea625b",
   "metadata": {},
   "outputs": [],
   "source": [
    "#Importa BayesianGaussianMixture"
   ]
  },
  {
   "cell_type": "code",
   "execution_count": null,
   "id": "65390caa-a08f-4f8f-922f-bc05255d22ea",
   "metadata": {},
   "outputs": [],
   "source": [
    "#Adivina y asigna la cantidad de clusters al algoritmo"
   ]
  },
  {
   "cell_type": "code",
   "execution_count": null,
   "id": "0d127670-3743-46c0-bbb2-a38bfe8b1217",
   "metadata": {},
   "outputs": [],
   "source": [
    "#Redondea los pesos con np.round "
   ]
  }
 ],
 "metadata": {
  "kernelspec": {
   "display_name": "Python 3 (ipykernel)",
   "language": "python",
   "name": "python3"
  },
  "language_info": {
   "codemirror_mode": {
    "name": "ipython",
    "version": 3
   },
   "file_extension": ".py",
   "mimetype": "text/x-python",
   "name": "python",
   "nbconvert_exporter": "python",
   "pygments_lexer": "ipython3",
   "version": "3.9.7"
  }
 },
 "nbformat": 4,
 "nbformat_minor": 5
}
