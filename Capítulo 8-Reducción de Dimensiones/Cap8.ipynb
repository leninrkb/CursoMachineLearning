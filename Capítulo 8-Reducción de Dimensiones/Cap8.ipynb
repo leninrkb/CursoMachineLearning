{
 "cells": [
  {
   "cell_type": "markdown",
   "id": "706d03e7-0997-4e44-8d63-24815966bba0",
   "metadata": {},
   "source": [
    "# Capítulo 8: Reducción de Dimensionalidades"
   ]
  },
  {
   "cell_type": "markdown",
   "id": "ffdfd9bc-4139-493e-9ef0-9809b3457765",
   "metadata": {},
   "source": [
    "## <span style=\"color:green\">1. PCA</span>"
   ]
  },
  {
   "cell_type": "markdown",
   "id": "acd08539-0131-414a-879c-c92299463951",
   "metadata": {},
   "source": [
    "PCA=Principal Component Analysis"
   ]
  },
  {
   "cell_type": "code",
   "execution_count": 3,
   "id": "ff72570a-df50-4427-9919-18101f4a1398",
   "metadata": {},
   "outputs": [],
   "source": [
    "#Importa los librerías pandas, numpy, matplotlib, os. Ya te la sabes, babyyy\n",
    "import pandas as pd \n",
    "import numpy as np \n",
    "import matplotlib.pyplot as plt\n",
    "import os "
   ]
  },
  {
   "cell_type": "code",
   "execution_count": 4,
   "id": "a9a9a664-e695-4a7e-91d6-59c8d59c88f4",
   "metadata": {},
   "outputs": [
    {
     "data": {
      "text/html": [
       "<div>\n",
       "<style scoped>\n",
       "    .dataframe tbody tr th:only-of-type {\n",
       "        vertical-align: middle;\n",
       "    }\n",
       "\n",
       "    .dataframe tbody tr th {\n",
       "        vertical-align: top;\n",
       "    }\n",
       "\n",
       "    .dataframe thead th {\n",
       "        text-align: right;\n",
       "    }\n",
       "</style>\n",
       "<table border=\"1\" class=\"dataframe\">\n",
       "  <thead>\n",
       "    <tr style=\"text-align: right;\">\n",
       "      <th></th>\n",
       "      <th>gmat</th>\n",
       "      <th>gpa</th>\n",
       "      <th>work_experience</th>\n",
       "      <th>admitted</th>\n",
       "    </tr>\n",
       "  </thead>\n",
       "  <tbody>\n",
       "    <tr>\n",
       "      <th>0</th>\n",
       "      <td>780</td>\n",
       "      <td>4.0</td>\n",
       "      <td>3</td>\n",
       "      <td>1</td>\n",
       "    </tr>\n",
       "    <tr>\n",
       "      <th>1</th>\n",
       "      <td>750</td>\n",
       "      <td>3.9</td>\n",
       "      <td>4</td>\n",
       "      <td>1</td>\n",
       "    </tr>\n",
       "    <tr>\n",
       "      <th>2</th>\n",
       "      <td>690</td>\n",
       "      <td>3.3</td>\n",
       "      <td>3</td>\n",
       "      <td>0</td>\n",
       "    </tr>\n",
       "    <tr>\n",
       "      <th>3</th>\n",
       "      <td>710</td>\n",
       "      <td>3.7</td>\n",
       "      <td>5</td>\n",
       "      <td>1</td>\n",
       "    </tr>\n",
       "    <tr>\n",
       "      <th>4</th>\n",
       "      <td>680</td>\n",
       "      <td>3.9</td>\n",
       "      <td>4</td>\n",
       "      <td>0</td>\n",
       "    </tr>\n",
       "  </tbody>\n",
       "</table>\n",
       "</div>"
      ],
      "text/plain": [
       "   gmat  gpa  work_experience  admitted\n",
       "0   780  4.0                3         1\n",
       "1   750  3.9                4         1\n",
       "2   690  3.3                3         0\n",
       "3   710  3.7                5         1\n",
       "4   680  3.9                4         0"
      ]
     },
     "execution_count": 4,
     "metadata": {},
     "output_type": "execute_result"
    }
   ],
   "source": [
    "#Trae los datos que necesitamos\n",
    "candidates = {'gmat': [780,750,690,710,680,730,690,720,740,690,610,690,710,680,770,610,580,650,540,590,620,600,550,550,570,670,660,580,650,660,640,620,660,660,680,650,670,580,590,690],\n",
    "              'gpa': [4,3.9,3.3,3.7,3.9,3.7,2.3,3.3,3.3,1.7,2.7,3.7,3.7,3.3,3.3,3,2.7,3.7,2.7,2.3,3.3,2,2.3,2.7,3,3.3,3.7,2.3,3.7,3.3,3,2.7,4,3.3,3.3,2.3,2.7,3.3,1.7,3.7],\n",
    "              'work_experience': [3,4,3,5,4,6,1,4,5,1,3,5,6,4,3,1,4,6,2,3,2,1,4,1,2,6,4,2,6,5,1,2,4,6,5,1,2,1,4,5],\n",
    "              'admitted': [1,1,0,1,0,1,0,1,1,0,0,1,1,0,1,0,0,1,0,0,1,0,0,0,0,1,1,0,1,1,0,0,1,1,1,0,0,0,0,1]\n",
    "              }\n",
    "df = pd.DataFrame(candidates,columns= ['gmat', 'gpa','work_experience','admitted'])\n",
    "df.head()"
   ]
  },
  {
   "cell_type": "code",
   "execution_count": 5,
   "id": "e984e52d-69d7-4256-ae16-6379e57b3466",
   "metadata": {},
   "outputs": [],
   "source": [
    "#Separa el dataframe en los datos que vamos a utilizar para predecir y los datos predichos\n",
    "x = df[['gpa','gmat','work_experience']]\n",
    "y = df['admitted']"
   ]
  },
  {
   "cell_type": "code",
   "execution_count": 7,
   "id": "d8d4793b-37c1-4217-9e09-4d7d940998e2",
   "metadata": {},
   "outputs": [
    {
     "data": {
      "text/plain": [
       "(array([-0.00576901, -0.99991795, -0.01143706]),\n",
       " array([ 0.16747873, -0.01224184,  0.98579968]))"
      ]
     },
     "execution_count": 7,
     "metadata": {},
     "output_type": "execute_result"
    }
   ],
   "source": [
    "#Una vez teniendo nuestros datos centramos x restándole su media.\n",
    "x_centrada  = x - x.mean(axis=0)\n",
    "#Recordemos que SVD descompone X en 3 matrices U, E y V por lo que utilizamos la función de numpy svd.\n",
    "U, E, V = np.linalg.svd(x_centrada)\n",
    "#V es la que contiene los vectores con los componentes principales\n",
    "#para obtener los primeros 2 simplemente transponemos sus primeras 2 columnas.\n",
    "pc1 = V.T[:,0]\n",
    "pc2 = V.T[:,1]\n",
    "pc1,pc2"
   ]
  },
  {
   "cell_type": "markdown",
   "id": "8b4146cb-9552-410e-ae19-2d66d2eeb0f7",
   "metadata": {},
   "source": [
    "Para proyectar nuestros datos en el hiperplano y obtener nuestra matriz X de dimensiones reducidas\n",
    "tenemos que XNUEVA = XW donde X es nuestra matriz de datos original y W es la matriz \n",
    "que contiene nuestros vectores de componentes principales."
   ]
  },
  {
   "cell_type": "code",
   "execution_count": 8,
   "id": "b533bae6-3287-4c47-8cee-2619a7b4877d",
   "metadata": {},
   "outputs": [
    {
     "data": {
      "text/html": [
       "<div>\n",
       "<style scoped>\n",
       "    .dataframe tbody tr th:only-of-type {\n",
       "        vertical-align: middle;\n",
       "    }\n",
       "\n",
       "    .dataframe tbody tr th {\n",
       "        vertical-align: top;\n",
       "    }\n",
       "\n",
       "    .dataframe thead th {\n",
       "        text-align: right;\n",
       "    }\n",
       "</style>\n",
       "<table border=\"1\" class=\"dataframe\">\n",
       "  <thead>\n",
       "    <tr style=\"text-align: right;\">\n",
       "      <th></th>\n",
       "      <th>0</th>\n",
       "      <th>1</th>\n",
       "    </tr>\n",
       "  </thead>\n",
       "  <tbody>\n",
       "    <tr>\n",
       "      <th>0</th>\n",
       "      <td>-125.990022</td>\n",
       "      <td>-1.809869</td>\n",
       "    </tr>\n",
       "    <tr>\n",
       "      <th>1</th>\n",
       "      <td>-96.003344</td>\n",
       "      <td>-0.473562</td>\n",
       "    </tr>\n",
       "    <tr>\n",
       "      <th>2</th>\n",
       "      <td>-35.993368</td>\n",
       "      <td>-0.825338</td>\n",
       "    </tr>\n",
       "    <tr>\n",
       "      <th>3</th>\n",
       "      <td>-56.016909</td>\n",
       "      <td>0.968416</td>\n",
       "    </tr>\n",
       "    <tr>\n",
       "      <th>4</th>\n",
       "      <td>-26.009087</td>\n",
       "      <td>0.383367</td>\n",
       "    </tr>\n",
       "  </tbody>\n",
       "</table>\n",
       "</div>"
      ],
      "text/plain": [
       "            0         1\n",
       "0 -125.990022 -1.809869\n",
       "1  -96.003344 -0.473562\n",
       "2  -35.993368 -0.825338\n",
       "3  -56.016909  0.968416\n",
       "4  -26.009087  0.383367"
      ]
     },
     "execution_count": 8,
     "metadata": {},
     "output_type": "execute_result"
    }
   ],
   "source": [
    "W = V.T[:, :2]\n",
    "x_nueva = x_centrada.dot(W)\n",
    "x_nueva.head()"
   ]
  },
  {
   "cell_type": "markdown",
   "id": "04c767b2-6363-4455-b618-b91508d18d36",
   "metadata": {},
   "source": [
    "### <span style=\"color:blue\">1.1 Con Scikit</span>"
   ]
  },
  {
   "cell_type": "code",
   "execution_count": 10,
   "id": "7b225056-b240-47db-9794-5653cba6a104",
   "metadata": {},
   "outputs": [
    {
     "data": {
      "text/plain": [
       "array([[125.99002225,   1.80986853],\n",
       "       [ 96.00334382,   0.4735615 ],\n",
       "       [ 35.9933682 ,   0.82533799],\n",
       "       [ 56.01690897,  -0.96841606],\n",
       "       [ 26.00908713,  -0.38336734]])"
      ]
     },
     "execution_count": 10,
     "metadata": {},
     "output_type": "execute_result"
    }
   ],
   "source": [
    "#Importa PCA\n",
    "from sklearn.decomposition import PCA\n",
    "#Genera el objeto \n",
    "pca = PCA(n_components=2)\n",
    "x_nueva = pca.fit_transform(x)\n",
    "x_nueva[0:5]"
   ]
  },
  {
   "cell_type": "code",
   "execution_count": 11,
   "id": "dc96a6e4-46f5-49ed-abfa-9b16428e9fe8",
   "metadata": {},
   "outputs": [
    {
     "data": {
      "text/plain": [
       "array([9.99258771e-01, 6.86720501e-04])"
      ]
     },
     "execution_count": 11,
     "metadata": {},
     "output_type": "execute_result"
    }
   ],
   "source": [
    "#Calula la distribución de la varianza  \n",
    "pca.explained_variance_ratio_"
   ]
  },
  {
   "cell_type": "markdown",
   "id": "ed54a393-f421-4ddd-b22d-1de13e343beb",
   "metadata": {},
   "source": [
    "Esta distribución nos indica la proporción de varianza que cada componente principal contiene en comparación al set de datos original."
   ]
  },
  {
   "cell_type": "code",
   "execution_count": 12,
   "id": "b067be89-ca4d-431a-9ec8-2eca0ad3cb2b",
   "metadata": {},
   "outputs": [
    {
     "data": {
      "text/plain": [
       "array([[125.99002225],\n",
       "       [ 96.00334382],\n",
       "       [ 35.9933682 ],\n",
       "       [ 56.01690897],\n",
       "       [ 26.00908713]])"
      ]
     },
     "execution_count": 12,
     "metadata": {},
     "output_type": "execute_result"
    }
   ],
   "source": [
    "# Crea  un modelo donde tengas al menos el 90% de la varianza consevada\n",
    "pca = PCA(n_components=0.90)\n",
    "x_nueva = pca.fit_transform(x)\n",
    "x_nueva[0:5]"
   ]
  },
  {
   "cell_type": "markdown",
   "id": "2349ee1d-e7c6-4398-9b41-993ee9198283",
   "metadata": {},
   "source": [
    "***"
   ]
  },
  {
   "cell_type": "code",
   "execution_count": 13,
   "id": "73a5c55b-d8f9-4790-92b7-598b764df421",
   "metadata": {},
   "outputs": [
    {
     "data": {
      "text/plain": [
       "array([[  3.82183783, 779.97968511,   4.86595537],\n",
       "       [  3.64884435, 749.99546701,   4.52299595],\n",
       "       [  3.30264614, 689.99041504,   3.83665829],\n",
       "       [  3.41816217, 710.01231294,   4.06566872],\n",
       "       [  3.24504671, 680.00695316,   3.72246748]])"
      ]
     },
     "execution_count": 13,
     "metadata": {},
     "output_type": "execute_result"
    }
   ],
   "source": [
    "#descomprime los datos con la función inverse_transform\n",
    "pca = PCA(n_components=1)\n",
    "x_nueva = pca.fit_transform(x)\n",
    "x_recuperada = pca.inverse_transform(x_nueva)\n",
    "#Resultado de la descompresión\n",
    "x_recuperada[0:5]"
   ]
  },
  {
   "cell_type": "markdown",
   "id": "a395bde4-9b1c-4a9e-a633-557971e013b6",
   "metadata": {},
   "source": [
    "Se pierde fidelidad porque no explica la variación en todos los datos pero es suficiente para entrenar al algoritmo"
   ]
  },
  {
   "cell_type": "markdown",
   "id": "86184122-f064-4fc7-bcbb-62fe931b3c34",
   "metadata": {},
   "source": [
    "***"
   ]
  },
  {
   "cell_type": "markdown",
   "id": "e6a2a10e-08db-41f1-b8e1-ca95b93ea193",
   "metadata": {},
   "source": [
    "### <span style=\"color:blue\">1.2 PCA Incremental</span>"
   ]
  },
  {
   "cell_type": "code",
   "execution_count": 15,
   "id": "e19b3821-f386-4f61-9d93-f57bcc00f916",
   "metadata": {},
   "outputs": [
    {
     "data": {
      "text/plain": [
       "array([[125.99002318],\n",
       "       [ 96.00334408],\n",
       "       [ 35.99336862],\n",
       "       [ 56.01690849],\n",
       "       [ 26.00908696]])"
      ]
     },
     "execution_count": 15,
     "metadata": {},
     "output_type": "execute_result"
    }
   ],
   "source": [
    "#Importar IncrementalPCA\n",
    "from sklearn.decomposition import IncrementalPCA\n",
    "#Divide los datos en 3, es decir, 3 subsets. \n",
    "subsets = 3\n",
    "ipca = IncrementalPCA(n_components=1)\n",
    "for subset in np.array_split(x, subsets):\n",
    "    ipca.partial_fit(subset)\n",
    "    \n",
    "x_nueva = ipca.transform(x)\n",
    "x_nueva[0:5]"
   ]
  },
  {
   "cell_type": "markdown",
   "id": "f9f93476-5111-4b2a-b3b7-ea24d88e4d39",
   "metadata": {},
   "source": [
    "***"
   ]
  },
  {
   "cell_type": "markdown",
   "id": "d652b6bd-7af3-4f07-ba28-7f7716cdc56c",
   "metadata": {},
   "source": [
    "## <span style=\"color:green\">2. Kernel PCA</span>"
   ]
  },
  {
   "cell_type": "code",
   "execution_count": 17,
   "id": "383ff89e-3e58-45f4-bd8c-1d6d610596e0",
   "metadata": {},
   "outputs": [],
   "source": [
    "#Importar KernelPCA\n",
    "from sklearn.decomposition import KernelPCA\n",
    "#Hacer un rbf= Radial Basis function \n",
    "pca_rbf = KernelPCA(n_components=2, kernel=\"rbf\")"
   ]
  },
  {
   "cell_type": "code",
   "execution_count": 19,
   "id": "f54d45af-b710-4f7b-afb7-cda37099076e",
   "metadata": {},
   "outputs": [
    {
     "data": {
      "text/plain": [
       "array([[-0.03746614, -0.04697463],\n",
       "       [-0.03746614, -0.04697463],\n",
       "       [-0.09203604, -0.18169782],\n",
       "       [-0.06508374, -0.0952682 ],\n",
       "       [-0.33597196,  0.80053796]])"
      ]
     },
     "execution_count": 19,
     "metadata": {},
     "output_type": "execute_result"
    }
   ],
   "source": [
    "x_nueva=pca_rbf.fit_transform(x)\n",
    "#Visualiza los resultado \n",
    "x_nueva[0:5]"
   ]
  },
  {
   "cell_type": "markdown",
   "id": "f842ec7d-c335-418b-b0f1-696889ac026b",
   "metadata": {},
   "source": [
    "### <span style=\"color:blue\">2.1 Seleccionar un Kernel</span>"
   ]
  },
  {
   "cell_type": "code",
   "execution_count": 21,
   "id": "60f25c1b-a8fc-4460-b9b8-577fa333a61c",
   "metadata": {},
   "outputs": [],
   "source": [
    "#Importar GridSearchCV\n",
    "from sklearn.model_selection import GridSearchCV\n",
    "#Importar LogisticRegressin\n",
    "from sklearn.linear_model import LogisticRegression\n",
    "#Importar Pipeline\n",
    "from sklearn.pipeline import Pipeline\n",
    "\n",
    "#Armar un pipeline que pase por KernelPCA y LogisticRegression\n",
    "clf = Pipeline([\n",
    "    (\"pca\", KernelPCA(n_components=2)),\n",
    "    (\"reg\", LogisticRegression())\n",
    "])"
   ]
  },
  {
   "cell_type": "code",
   "execution_count": 23,
   "id": "c8f6ecb6-5e2d-4c23-a12b-d030239477e2",
   "metadata": {},
   "outputs": [],
   "source": [
    "#Corre el GridSearch\n",
    "grid = [{\n",
    "    \"pca__gamma\": np.linspace(0.1,0.5,10),\n",
    "    \"pca__kernel\": [\"rbf\",\"sigmoid\"]\n",
    "}]"
   ]
  },
  {
   "cell_type": "code",
   "execution_count": 24,
   "id": "b45f0461-5fda-4dae-ba22-eb2bf69679ba",
   "metadata": {},
   "outputs": [
    {
     "data": {
      "text/plain": [
       "GridSearchCV(estimator=Pipeline(steps=[('pca', KernelPCA(n_components=2)),\n",
       "                                       ('reg', LogisticRegression())]),\n",
       "             param_grid=[{'pca__gamma': array([0.1       , 0.14444444, 0.18888889, 0.23333333, 0.27777778,\n",
       "       0.32222222, 0.36666667, 0.41111111, 0.45555556, 0.5       ]),\n",
       "                          'pca__kernel': ['rbf', 'sigmoid']}])"
      ]
     },
     "execution_count": 24,
     "metadata": {},
     "output_type": "execute_result"
    }
   ],
   "source": [
    "#Ejecuta el GridSearch\n",
    "search = GridSearchCV(clf, grid)\n",
    "search.fit(x,y)"
   ]
  },
  {
   "cell_type": "code",
   "execution_count": 25,
   "id": "c9615bba-6edd-4c1a-9d55-31c4136ffb47",
   "metadata": {},
   "outputs": [
    {
     "name": "stdout",
     "output_type": "stream",
     "text": [
      "{'pca__gamma': 0.14444444444444446, 'pca__kernel': 'rbf'}\n"
     ]
    }
   ],
   "source": [
    "#Imprime el mejor parámetro que equivale al PCA que será la mejor regresión logística\n",
    "print(search.best_params_)"
   ]
  },
  {
   "cell_type": "markdown",
   "id": "1969c715-fdb3-419f-a290-e5706e16c4e9",
   "metadata": {},
   "source": [
    "## <span style=\"color:green\">2. LLE</span>"
   ]
  },
  {
   "cell_type": "markdown",
   "id": "64e092d2-6ad4-434e-9045-680334294cda",
   "metadata": {},
   "source": [
    "LLE= Locally Linear Embedding (No es mi favorita 😴)"
   ]
  },
  {
   "cell_type": "markdown",
   "id": "87099143-221a-4906-b399-bda8ed779fa6",
   "metadata": {},
   "source": [
    "Es un método de reducción de dimensionalidad no lineal y **no depende de proyecciones**\n",
    "\n",
    "Funciona midiendo como cada instancia de entrenamiento se relaciona linealmente con sus instancias vecinas y busca una representación lineal de pocas dimensiones del set de datos donde estas relaciones entre instancias cercanas o vecinas están bien preservadas. "
   ]
  },
  {
   "cell_type": "code",
   "execution_count": 28,
   "id": "39d0f66d-f611-4425-a417-654775b1f65e",
   "metadata": {},
   "outputs": [
    {
     "data": {
      "text/plain": [
       "array([[ 0.17455358,  0.54429708],\n",
       "       [ 0.16458675,  0.31468021],\n",
       "       [ 0.14479511, -0.15096839],\n",
       "       [ 0.151172  ,  0.00563436],\n",
       "       [ 0.11317562, -0.13502106]])"
      ]
     },
     "execution_count": 28,
     "metadata": {},
     "output_type": "execute_result"
    }
   ],
   "source": [
    "#Importar LocallyLinearEmbedding\n",
    "from sklearn.manifold import LocallyLinearEmbedding\n",
    "\n",
    "#Seleccionar el número de dimensiones, componentes y \"vecinos\" \n",
    "lle = LocallyLinearEmbedding(n_components=2, n_neighbors=5)\n",
    "x_nueva = lle.fit_transform(x)\n",
    "x_nueva[0:5]"
   ]
  }
 ],
 "metadata": {
  "kernelspec": {
   "display_name": "Python 3 (ipykernel)",
   "language": "python",
   "name": "python3"
  },
  "language_info": {
   "codemirror_mode": {
    "name": "ipython",
    "version": 3
   },
   "file_extension": ".py",
   "mimetype": "text/x-python",
   "name": "python",
   "nbconvert_exporter": "python",
   "pygments_lexer": "ipython3",
   "version": "3.9.7"
  }
 },
 "nbformat": 4,
 "nbformat_minor": 5
}
