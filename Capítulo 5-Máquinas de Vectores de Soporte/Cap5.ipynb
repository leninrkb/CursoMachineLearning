{
 "cells": [
  {
   "cell_type": "markdown",
   "id": "69b88ee2",
   "metadata": {},
   "source": [
    "# Capítulo 5. Máquinas de Soporte de Vectores\n"
   ]
  },
  {
   "cell_type": "markdown",
   "id": "0faae113",
   "metadata": {},
   "source": [
    "## <span style=\"color:green\">1. Clasificación Lineal con SVM</span>"
   ]
  },
  {
   "cell_type": "code",
   "execution_count": 31,
   "id": "9f2ac0b9",
   "metadata": {},
   "outputs": [],
   "source": [
    "#Importar las librerias numpy, pandas, matplotlib 📚\n",
    "import numpy as np\n",
    "import pandas as pd\n",
    "import matplotlib.pyplot as plt\n",
    "\n",
    "from sklearn.pipeline import Pipeline\n",
    "from sklearn.preprocessing import StandardScaler\n",
    "from sklearn.svm import SVC\n",
    "from matplotlib import pyplot"
   ]
  },
  {
   "cell_type": "markdown",
   "id": "d8a37907-218f-45e3-90eb-80c528f95ac6",
   "metadata": {},
   "source": [
    "Las máquinas de vectores de soporte depende de que los datos esten bien escalados 👀"
   ]
  },
  {
   "cell_type": "code",
   "execution_count": 32,
   "id": "e476452c",
   "metadata": {},
   "outputs": [],
   "source": [
    "#Importar los datos a necesitar, en este caso, sobre si fueron seleccionados o no para un trabajo. \n",
    "#La variable gmat tiene un rango de número más elevado en comparación a las otras variables\n",
    "candidates = {'gmat': [780,750,690,710,680,730,690,720,740,690,610,690,710,680,770,610,580,650,540,590,620,600,550,550,570,670,660,580,650,660,640,620,660,660,680,650,670,580,590,690],\n",
    "             'gpa': [4,3.9,3.3,3.7,3.9,3.7,2.3,3.3,3.3,1.7,2.7,3.7,3.7,3.3,3.3,3,2.7,3.7,2.7,2.3,3.3,2,2.3,2.7,3,3.3,3.7,2.3,3.7,3.3,3,2.7,4,3.3,3.3,2.3,2.7,3.3,1.7,3.7],\n",
    "             'work_experience': [3,4,3,5,4,6,1,4,5,1,3,5,6,4,3,1,4,6,2,3,2,1,4,1,2,6,4,2,6,5,1,2,4,6,5,1,2,1,4,5],\n",
    "             'admitted': [1,1,0,1,0,1,0,1,1,0,0,1,1,0,1,0,0,1,0,0,1,0,0,0,0,1,1,0,1,1,0,0,1,1,1,0,0,0,0,1]\n",
    "          }\n"
   ]
  },
  {
   "cell_type": "code",
   "execution_count": 33,
   "id": "e895cab3-9c5d-4877-8e1a-0da8fb0f1af7",
   "metadata": {},
   "outputs": [
    {
     "data": {
      "text/html": [
       "<div>\n",
       "<style scoped>\n",
       "    .dataframe tbody tr th:only-of-type {\n",
       "        vertical-align: middle;\n",
       "    }\n",
       "\n",
       "    .dataframe tbody tr th {\n",
       "        vertical-align: top;\n",
       "    }\n",
       "\n",
       "    .dataframe thead th {\n",
       "        text-align: right;\n",
       "    }\n",
       "</style>\n",
       "<table border=\"1\" class=\"dataframe\">\n",
       "  <thead>\n",
       "    <tr style=\"text-align: right;\">\n",
       "      <th></th>\n",
       "      <th>gmat</th>\n",
       "      <th>gpa</th>\n",
       "      <th>work_experience</th>\n",
       "      <th>admitted</th>\n",
       "    </tr>\n",
       "  </thead>\n",
       "  <tbody>\n",
       "    <tr>\n",
       "      <th>0</th>\n",
       "      <td>780</td>\n",
       "      <td>4.0</td>\n",
       "      <td>3</td>\n",
       "      <td>1</td>\n",
       "    </tr>\n",
       "    <tr>\n",
       "      <th>1</th>\n",
       "      <td>750</td>\n",
       "      <td>3.9</td>\n",
       "      <td>4</td>\n",
       "      <td>1</td>\n",
       "    </tr>\n",
       "    <tr>\n",
       "      <th>2</th>\n",
       "      <td>690</td>\n",
       "      <td>3.3</td>\n",
       "      <td>3</td>\n",
       "      <td>0</td>\n",
       "    </tr>\n",
       "    <tr>\n",
       "      <th>3</th>\n",
       "      <td>710</td>\n",
       "      <td>3.7</td>\n",
       "      <td>5</td>\n",
       "      <td>1</td>\n",
       "    </tr>\n",
       "    <tr>\n",
       "      <th>4</th>\n",
       "      <td>680</td>\n",
       "      <td>3.9</td>\n",
       "      <td>4</td>\n",
       "      <td>0</td>\n",
       "    </tr>\n",
       "  </tbody>\n",
       "</table>\n",
       "</div>"
      ],
      "text/plain": [
       "   gmat  gpa  work_experience  admitted\n",
       "0   780  4.0                3         1\n",
       "1   750  3.9                4         1\n",
       "2   690  3.3                3         0\n",
       "3   710  3.7                5         1\n",
       "4   680  3.9                4         0"
      ]
     },
     "execution_count": 33,
     "metadata": {},
     "output_type": "execute_result"
    }
   ],
   "source": [
    "#Visualiza los datos de trabajo\n",
    "df = pd.DataFrame(candidates,columns= ['gmat', 'gpa','work_experience','admitted'])\n",
    "df.head()"
   ]
  },
  {
   "cell_type": "code",
   "execution_count": 34,
   "id": "4714b7e1",
   "metadata": {},
   "outputs": [],
   "source": [
    "#Separar los datos a predictores y los predichos\n",
    "x = df[['work_experience','gpa','gmat']]\n",
    "y = df['admitted']"
   ]
  },
  {
   "cell_type": "code",
   "execution_count": 35,
   "id": "79bddad5",
   "metadata": {},
   "outputs": [],
   "source": [
    "#Haz un pipeline para escalar los datos utilizando StandarScaler y un Kernel Lineal\n",
    "svm = Pipeline([\n",
    "    (\"escalar\", StandardScaler()),\n",
    "    #Haz un SVC=Support Vector Classifier\n",
    "    (\"svc\", SVC(kernel=\"linear\", C=1))\n",
    "])"
   ]
  },
  {
   "cell_type": "code",
   "execution_count": 36,
   "id": "e141301b",
   "metadata": {},
   "outputs": [
    {
     "data": {
      "text/plain": [
       "Pipeline(steps=[('escalar', StandardScaler()),\n",
       "                ('svc', SVC(C=1, kernel='linear'))])"
      ]
     },
     "execution_count": 36,
     "metadata": {},
     "output_type": "execute_result"
    }
   ],
   "source": [
    "#Ejecutar el pipeline\n",
    "svm.fit(x,y)"
   ]
  },
  {
   "cell_type": "code",
   "execution_count": 37,
   "id": "7023d0fe",
   "metadata": {},
   "outputs": [
    {
     "name": "stderr",
     "output_type": "stream",
     "text": [
      "/Users/karenrg/my_env/lib/python3.9/site-packages/sklearn/base.py:450: UserWarning: X does not have valid feature names, but StandardScaler was fitted with feature names\n",
      "  warnings.warn(\n"
     ]
    },
    {
     "data": {
      "text/plain": [
       "array([1])"
      ]
     },
     "execution_count": 37,
     "metadata": {},
     "output_type": "execute_result"
    }
   ],
   "source": [
    "#Haz una predicción de un sujeto aleatorio para ver que todo marche bien 👍🏼\n",
    "svm.predict([[5, 3.9, 720]])"
   ]
  },
  {
   "cell_type": "code",
   "execution_count": 38,
   "id": "af61b5f7-3cff-4150-8eb9-0913f263eccb",
   "metadata": {},
   "outputs": [
    {
     "data": {
      "text/plain": [
       "array([[18,  1],\n",
       "       [ 3, 18]])"
      ]
     },
     "execution_count": 38,
     "metadata": {},
     "output_type": "execute_result"
    }
   ],
   "source": [
    "#Evaluar el clasificador  con una matriz de confusión \n",
    "from sklearn.metrics import confusion_matrix, f1_score\n",
    "y_pred=svm.predict(x)\n",
    "confusion_matrix(y_pred,y)\n",
    "#En este caso no hay diferencia"
   ]
  },
  {
   "cell_type": "code",
   "execution_count": 39,
   "id": "5f5cad6a-94d2-4137-bef6-325120f6c38f",
   "metadata": {},
   "outputs": [
    {
     "data": {
      "text/plain": [
       "0.9"
      ]
     },
     "execution_count": 39,
     "metadata": {},
     "output_type": "execute_result"
    }
   ],
   "source": [
    "#Sacar el f1_score \n",
    "f1_score(y_pred,y)"
   ]
  },
  {
   "cell_type": "markdown",
   "id": "a3dc3d00-a845-4cd2-aa80-906c674accb7",
   "metadata": {},
   "source": [
    "***"
   ]
  },
  {
   "cell_type": "markdown",
   "id": "576835f8",
   "metadata": {},
   "source": [
    "## <span style=\"color:green\">2. Clasificador No Lineal con SVM</span>"
   ]
  },
  {
   "cell_type": "markdown",
   "id": "118884ce",
   "metadata": {},
   "source": [
    "#### <span style=\"color:blue\"> 2.1 Kernel Polinomial</span>"
   ]
  },
  {
   "cell_type": "code",
   "execution_count": 40,
   "id": "2b8a6dcd",
   "metadata": {},
   "outputs": [],
   "source": [
    "#Importar make_moons \n",
    "from sklearn.datasets import make_moons\n",
    "#Hacer un set de datos artificial con make_moons, genera un poco de ruido\n",
    "X,y = make_moons(n_samples=100, noise=0.15)"
   ]
  },
  {
   "cell_type": "code",
   "execution_count": 41,
   "id": "8c0942c9-3612-4217-894e-f087a5e53e18",
   "metadata": {},
   "outputs": [
    {
     "data": {
      "text/plain": [
       "array([1, 1, 0, 0, 1, 1, 1, 1, 0, 1, 0, 1, 0, 1, 0, 1, 1, 0, 1, 1, 0, 0,\n",
       "       1, 0, 0, 0, 1, 1, 1, 0, 0, 0, 1, 0, 0, 1, 1, 0, 1, 0, 1, 0, 1, 1,\n",
       "       0, 1, 0, 0, 1, 1, 0, 0, 0, 1, 0, 1, 1, 1, 1, 1, 1, 0, 0, 1, 1, 0,\n",
       "       1, 0, 1, 0, 0, 0, 0, 1, 0, 0, 1, 0, 0, 0, 1, 1, 1, 0, 1, 0, 0, 0,\n",
       "       1, 0, 0, 0, 1, 0, 1, 1, 0, 0, 1, 1])"
      ]
     },
     "execution_count": 41,
     "metadata": {},
     "output_type": "execute_result"
    }
   ],
   "source": [
    "#Visualizar x, y 👀\n",
    "x\n",
    "y"
   ]
  },
  {
   "cell_type": "markdown",
   "id": "5556af34-5802-4559-856a-99e6c49fbf10",
   "metadata": {},
   "source": [
    "Aquí, todos tendremos datos diferentes. No se alteren si no les da lo mismo que a mi. "
   ]
  },
  {
   "cell_type": "code",
   "execution_count": 42,
   "id": "765b24db",
   "metadata": {},
   "outputs": [
    {
     "data": {
      "image/png": "[encoded data removed]",
      "text/plain": [
       "<Figure size 432x288 with 1 Axes>"
      ]
     },
     "metadata": {
      "needs_background": "light"
     },
     "output_type": "display_data"
    }
   ],
   "source": [
    "#Grafica el set de datos de make_moons\n",
    "for class_value in range(2):\n",
    "    row_ix = np.where(y == class_value)\n",
    "    #Esto serán las coordenadas \n",
    "    pyplot.scatter(X[row_ix, 0], X[row_ix, 1])\n",
    "pyplot.show()"
   ]
  },
  {
   "cell_type": "code",
   "execution_count": 43,
   "id": "0f4bd5c4",
   "metadata": {},
   "outputs": [],
   "source": [
    "#Haz un pipeline donde aplicarás un kernel polinomial \n",
    "svm = Pipeline([\n",
    "    (\"escalar\", StandardScaler()),\n",
    "    (\"svc\", SVC(kernel=\"poly\", C=5, degree=10, coef0=1))\n",
    "])"
   ]
  },
  {
   "cell_type": "markdown",
   "id": "ebc13118-a4f0-40fc-9c3b-e93f86ed986e",
   "metadata": {},
   "source": [
    "Como es un kernel polinomial, tienes que especificar el grado del mismo. "
   ]
  },
  {
   "cell_type": "code",
   "execution_count": 45,
   "id": "6b09f178-df9d-4871-8dde-f79df6c87f9b",
   "metadata": {},
   "outputs": [
    {
     "data": {
      "text/plain": [
       "Pipeline(steps=[('escalar', StandardScaler()),\n",
       "                ('svc', SVC(C=5, coef0=1, degree=10, kernel='poly'))])"
      ]
     },
     "execution_count": 45,
     "metadata": {},
     "output_type": "execute_result"
    }
   ],
   "source": [
    "#Ejecutar el pipeline\n",
    "svm.fit(X,y)"
   ]
  },
  {
   "cell_type": "code",
   "execution_count": 46,
   "id": "26c6e14e-3de4-4da5-ab08-bd55bd216c2d",
   "metadata": {},
   "outputs": [],
   "source": [
    "#Predecir ahora con este pipeline para ver que todo marche bien\n",
    "y_pred=svm.predict(X)"
   ]
  },
  {
   "cell_type": "code",
   "execution_count": 47,
   "id": "91a8dd52-5b20-4a52-9de1-ca9c27c00301",
   "metadata": {},
   "outputs": [
    {
     "data": {
      "text/plain": [
       "array([[50,  0],\n",
       "       [ 0, 50]])"
      ]
     },
     "execution_count": 47,
     "metadata": {},
     "output_type": "execute_result"
    }
   ],
   "source": [
    "#Evaluar el clasificador con una matriz de confusión \n",
    "confusion_matrix(y_pred,y)"
   ]
  },
  {
   "cell_type": "code",
   "execution_count": 48,
   "id": "7611ed0a-014c-48c2-9974-ac7f9128c3ab",
   "metadata": {},
   "outputs": [
    {
     "data": {
      "text/plain": [
       "1.0"
      ]
     },
     "execution_count": 48,
     "metadata": {},
     "output_type": "execute_result"
    }
   ],
   "source": [
    "#Sacar el f1_score \n",
    "f1_score(y_pred,y)"
   ]
  },
  {
   "cell_type": "code",
   "execution_count": 49,
   "id": "d4cb46ca",
   "metadata": {},
   "outputs": [
    {
     "data": {
      "image/png": "[encoded data removed]",
      "text/plain": [
       "<Figure size 432x288 with 1 Axes>"
      ]
     },
     "metadata": {
      "needs_background": "light"
     },
     "output_type": "display_data"
    }
   ],
   "source": [
    "#Hacer la gráfica para visualizar el clasificador no lineal \n",
    "min1, max1 = X[:, 0].min()-1, X[:, 0].max()+1\n",
    "min2, max2 = X[:, 1].min()-1, X[:, 1].max()+1\n",
    "x1grid = np.arange(min1, max1, 0.1)\n",
    "x2grid = np.arange(min2, max2, 0.1)\n",
    "xx, yy = np.meshgrid(x1grid, x2grid)\n",
    "r1, r2 = xx.flatten(), yy.flatten()\n",
    "r1, r2 = r1.reshape((len(r1), 1)), r2.reshape((len(r2), 1))\n",
    "grid = np.hstack((r1,r2))\n",
    "svm.fit(X,y)\n",
    "yhat = svm.predict(grid)\n",
    "zz = yhat.reshape(xx.shape)\n",
    "pyplot.contourf(xx, yy, zz, cmap='plasma')\n",
    "for class_value in range(2):\n",
    "    row_ix = np.where(y == class_value)\n",
    "    pyplot.scatter(X[row_ix, 0], X[row_ix, 1], cmap='Paired')\n",
    "pyplot.show()"
   ]
  },
  {
   "cell_type": "markdown",
   "id": "9fbcbf28-4759-42ac-956f-d2d77d5c3215",
   "metadata": {},
   "source": [
    "Ejercicio: Varía el grado en el polinomio para evaluar la gráfica que despliega acorde al clasificador 👀. \n",
    "Por ejemplo, grado 3."
   ]
  },
  {
   "cell_type": "markdown",
   "id": "d38e49a2-6e25-449d-9dac-4a690445298f",
   "metadata": {},
   "source": [
    "***"
   ]
  },
  {
   "cell_type": "markdown",
   "id": "4ec3f64e",
   "metadata": {},
   "source": [
    "#### <span style=\"color:blue\"> 2.2 Kernel RBF Gaussiano</span>"
   ]
  },
  {
   "cell_type": "code",
   "execution_count": 51,
   "id": "a1e24238",
   "metadata": {},
   "outputs": [],
   "source": [
    "#Hacer un pipeline con StandarScaler pero ahora con un Kernel RBF\n",
    "svm = Pipeline([\n",
    "    (\"escalar\", StandardScaler()),\n",
    "    (\"svc\", SVC(kernel=\"rbf\", C=1, gamma=5))\n",
    "])"
   ]
  },
  {
   "cell_type": "markdown",
   "id": "1ecb1a0d-b294-4e17-8948-1676e6f1458f",
   "metadata": {},
   "source": [
    "gamma es un parámetro de regularización. **Sobreajuste**= Reducir gamma. **Subajuste**=Aumentar gamma"
   ]
  },
  {
   "cell_type": "code",
   "execution_count": 52,
   "id": "ff6b4768-5237-44b2-a814-55b7b203bdea",
   "metadata": {},
   "outputs": [
    {
     "data": {
      "text/plain": [
       "Pipeline(steps=[('escalar', StandardScaler()), ('svc', SVC(C=1, gamma=5))])"
      ]
     },
     "execution_count": 52,
     "metadata": {},
     "output_type": "execute_result"
    }
   ],
   "source": [
    "#Ejecutar el pipeline\n",
    "svm.fit(X,y)"
   ]
  },
  {
   "cell_type": "code",
   "execution_count": 53,
   "id": "6290d928-8988-427a-8cff-4f4bb70b54b6",
   "metadata": {},
   "outputs": [],
   "source": [
    "#Predecir ahora con este pipeline para ver que todo marche bien\n",
    "y_pred=svm.predict(X)"
   ]
  },
  {
   "cell_type": "code",
   "execution_count": 54,
   "id": "fa04dae9-f738-475a-a3c0-c22d7a773226",
   "metadata": {},
   "outputs": [
    {
     "data": {
      "text/plain": [
       "array([[50,  0],\n",
       "       [ 0, 50]])"
      ]
     },
     "execution_count": 54,
     "metadata": {},
     "output_type": "execute_result"
    }
   ],
   "source": [
    "#Evaluar el clasificador con una matriz de confusión \n",
    "confusion_matrix(y_pred,y)"
   ]
  },
  {
   "cell_type": "code",
   "execution_count": 55,
   "id": "89d4cd3b",
   "metadata": {},
   "outputs": [
    {
     "data": {
      "image/png": "[encoded data removed]",
      "text/plain": [
       "<Figure size 432x288 with 1 Axes>"
      ]
     },
     "metadata": {
      "needs_background": "light"
     },
     "output_type": "display_data"
    }
   ],
   "source": [
    "#Hacer la gráfica para visualizar el clasificador no lineal\n",
    "min1, max1 = X[:, 0].min()-1, X[:, 0].max()+1\n",
    "min2, max2 = X[:, 1].min()-1, X[:, 1].max()+1\n",
    "x1grid = np.arange(min1, max1, 0.1)\n",
    "x2grid = np.arange(min2, max2, 0.1)\n",
    "xx, yy = np.meshgrid(x1grid, x2grid)\n",
    "r1, r2 = xx.flatten(), yy.flatten()\n",
    "r1, r2 = r1.reshape((len(r1), 1)), r2.reshape((len(r2), 1))\n",
    "grid = np.hstack((r1,r2))\n",
    "svm.fit(X,y)\n",
    "yhat = svm.predict(grid)\n",
    "zz = yhat.reshape(xx.shape)\n",
    "pyplot.contourf(xx, yy, zz, cmap='plasma')\n",
    "for class_value in range(2):\n",
    "    row_ix = np.where(y == class_value)\n",
    "    pyplot.scatter(X[row_ix, 0], X[row_ix, 1], cmap='Paired')\n",
    "pyplot.show()"
   ]
  },
  {
   "cell_type": "markdown",
   "id": "5d8a7065-559b-4cbf-8ba4-d0cf2cb6b018",
   "metadata": {},
   "source": [
    "Ejercicio: varía los hiperparametros, es decir **gamma y C**. \n",
    "Observa los resultados y analiza."
   ]
  },
  {
   "cell_type": "markdown",
   "id": "0d4fb8e8-61b5-4919-81b1-d8acbe27a9a2",
   "metadata": {},
   "source": [
    "***"
   ]
  },
  {
   "cell_type": "markdown",
   "id": "fb61ba23",
   "metadata": {},
   "source": [
    "### <span style=\"color:green\"> 3. Regresión con SVM</span>"
   ]
  },
  {
   "cell_type": "markdown",
   "id": "e1456447-9cf3-4f19-89f4-fa52a0cfef0f",
   "metadata": {},
   "source": [
    "#### <span style=\"color:blue\"> 3.1 Regresión Lineal </span>"
   ]
  },
  {
   "cell_type": "code",
   "execution_count": 58,
   "id": "7d1345ce",
   "metadata": {},
   "outputs": [],
   "source": [
    "#Importar SVR= Supporr Vector Regressor  \n",
    "from sklearn.svm import LinearSVR\n",
    "svm = Pipeline([\n",
    "    (\"escalar\", StandardScaler()),\n",
    "    (\"svr\", LinearSVR(epsilon=1.5))\n",
    "])"
   ]
  },
  {
   "cell_type": "markdown",
   "id": "02fc654c-1597-4390-920f-4bf96782ca02",
   "metadata": {},
   "source": [
    "#### <span style=\"color:blue\"> 3.2 Regresión Polinomial </span>"
   ]
  },
  {
   "cell_type": "code",
   "execution_count": 59,
   "id": "5fcd9e86",
   "metadata": {},
   "outputs": [],
   "source": [
    "#Tambiém se puede hacer regresiones polinomiales\n",
    "svm = Pipeline([\n",
    "    (\"escalar\", StandardScaler()),\n",
    "    (\"svr\", SVR(kernel=\"poly\", degree=3,epsilon=1.5))\n",
    "])"
   ]
  }
 ],
 "metadata": {
  "kernelspec": {
   "display_name": "Python 3 (ipykernel)",
   "language": "python",
   "name": "python3"
  },
  "language_info": {
   "codemirror_mode": {
    "name": "ipython",
    "version": 3
   },
   "file_extension": ".py",
   "mimetype": "text/x-python",
   "name": "python",
   "nbconvert_exporter": "python",
   "pygments_lexer": "ipython3",
   "version": "3.9.7"
  }
 },
 "nbformat": 4,
 "nbformat_minor": 5
}
