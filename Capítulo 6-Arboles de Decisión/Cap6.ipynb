{
 "cells": [
  {
   "cell_type": "markdown",
   "id": "ac883fd5-d081-4f3f-b5f8-404c5450c19e",
   "metadata": {},
   "source": [
    "# Capítulo 6: Árbol de Decisión"
   ]
  },
  {
   "cell_type": "markdown",
   "id": "13f1cf59-a45e-4d07-9d8b-69ff244bd82b",
   "metadata": {},
   "source": [
    "## <span style=\"color:green\">1. Clasificación</span>"
   ]
  },
  {
   "cell_type": "code",
   "execution_count": 21,
   "id": "f4c8f25b-88be-4ee3-83b5-16acf843c5db",
   "metadata": {},
   "outputs": [],
   "source": [
    "#Importar los bibliotecas\n",
    "import pandas as pd \n",
    "import numpy as np \n",
    "import matplotlib.pyplot as plt\n",
    "import os "
   ]
  },
  {
   "cell_type": "code",
   "execution_count": 3,
   "id": "10326945-d876-4562-a0ff-2d7c9b1a578e",
   "metadata": {},
   "outputs": [],
   "source": [
    "#DOWNLOAD_ROOT es la base del GitHub donde vamos a estar descargando las bases de datos.\n",
    "DOWNLOAD_ROOT = \"https://raw.githubusercontent.com/a2Proyectos/MachineLearning_Data/main/\"\n",
    "#Complementos con la dirección especifica de la base de datos que queremos.\n",
    "COMEDIANTES = \"Capitulo_6/Comediantes.csv\"\n",
    "#Declara la función para extraer datos\n",
    "def extraer_datos(root,database):\n",
    "    csv_path=root+ database\n",
    "    return pd.read_csv(csv_path)"
   ]
  },
  {
   "cell_type": "code",
   "execution_count": 4,
   "id": "5cb7eec8-7dc9-44c1-9333-2f050ad7dd22",
   "metadata": {},
   "outputs": [
    {
     "data": {
      "text/html": [
       "<div>\n",
       "<style scoped>\n",
       "    .dataframe tbody tr th:only-of-type {\n",
       "        vertical-align: middle;\n",
       "    }\n",
       "\n",
       "    .dataframe tbody tr th {\n",
       "        vertical-align: top;\n",
       "    }\n",
       "\n",
       "    .dataframe thead th {\n",
       "        text-align: right;\n",
       "    }\n",
       "</style>\n",
       "<table border=\"1\" class=\"dataframe\">\n",
       "  <thead>\n",
       "    <tr style=\"text-align: right;\">\n",
       "      <th></th>\n",
       "      <th>Age</th>\n",
       "      <th>Experience</th>\n",
       "      <th>Rank</th>\n",
       "      <th>Nationality</th>\n",
       "      <th>Go</th>\n",
       "    </tr>\n",
       "  </thead>\n",
       "  <tbody>\n",
       "    <tr>\n",
       "      <th>0</th>\n",
       "      <td>36</td>\n",
       "      <td>10</td>\n",
       "      <td>9</td>\n",
       "      <td>UK</td>\n",
       "      <td>NO</td>\n",
       "    </tr>\n",
       "    <tr>\n",
       "      <th>1</th>\n",
       "      <td>42</td>\n",
       "      <td>12</td>\n",
       "      <td>4</td>\n",
       "      <td>USA</td>\n",
       "      <td>NO</td>\n",
       "    </tr>\n",
       "    <tr>\n",
       "      <th>2</th>\n",
       "      <td>23</td>\n",
       "      <td>4</td>\n",
       "      <td>6</td>\n",
       "      <td>N</td>\n",
       "      <td>NO</td>\n",
       "    </tr>\n",
       "    <tr>\n",
       "      <th>3</th>\n",
       "      <td>52</td>\n",
       "      <td>4</td>\n",
       "      <td>4</td>\n",
       "      <td>USA</td>\n",
       "      <td>NO</td>\n",
       "    </tr>\n",
       "    <tr>\n",
       "      <th>4</th>\n",
       "      <td>43</td>\n",
       "      <td>21</td>\n",
       "      <td>8</td>\n",
       "      <td>USA</td>\n",
       "      <td>YES</td>\n",
       "    </tr>\n",
       "    <tr>\n",
       "      <th>5</th>\n",
       "      <td>44</td>\n",
       "      <td>14</td>\n",
       "      <td>5</td>\n",
       "      <td>UK</td>\n",
       "      <td>NO</td>\n",
       "    </tr>\n",
       "    <tr>\n",
       "      <th>6</th>\n",
       "      <td>66</td>\n",
       "      <td>3</td>\n",
       "      <td>7</td>\n",
       "      <td>N</td>\n",
       "      <td>YES</td>\n",
       "    </tr>\n",
       "    <tr>\n",
       "      <th>7</th>\n",
       "      <td>35</td>\n",
       "      <td>14</td>\n",
       "      <td>9</td>\n",
       "      <td>UK</td>\n",
       "      <td>YES</td>\n",
       "    </tr>\n",
       "    <tr>\n",
       "      <th>8</th>\n",
       "      <td>52</td>\n",
       "      <td>13</td>\n",
       "      <td>7</td>\n",
       "      <td>N</td>\n",
       "      <td>YES</td>\n",
       "    </tr>\n",
       "    <tr>\n",
       "      <th>9</th>\n",
       "      <td>35</td>\n",
       "      <td>5</td>\n",
       "      <td>9</td>\n",
       "      <td>N</td>\n",
       "      <td>YES</td>\n",
       "    </tr>\n",
       "    <tr>\n",
       "      <th>10</th>\n",
       "      <td>24</td>\n",
       "      <td>3</td>\n",
       "      <td>5</td>\n",
       "      <td>USA</td>\n",
       "      <td>NO</td>\n",
       "    </tr>\n",
       "    <tr>\n",
       "      <th>11</th>\n",
       "      <td>18</td>\n",
       "      <td>3</td>\n",
       "      <td>7</td>\n",
       "      <td>UK</td>\n",
       "      <td>YES</td>\n",
       "    </tr>\n",
       "    <tr>\n",
       "      <th>12</th>\n",
       "      <td>45</td>\n",
       "      <td>9</td>\n",
       "      <td>9</td>\n",
       "      <td>UK</td>\n",
       "      <td>YES</td>\n",
       "    </tr>\n",
       "  </tbody>\n",
       "</table>\n",
       "</div>"
      ],
      "text/plain": [
       "    Age  Experience  Rank Nationality   Go\n",
       "0    36          10     9          UK   NO\n",
       "1    42          12     4         USA   NO\n",
       "2    23           4     6           N   NO\n",
       "3    52           4     4         USA   NO\n",
       "4    43          21     8         USA  YES\n",
       "5    44          14     5          UK   NO\n",
       "6    66           3     7           N  YES\n",
       "7    35          14     9          UK  YES\n",
       "8    52          13     7           N  YES\n",
       "9    35           5     9           N  YES\n",
       "10   24           3     5         USA   NO\n",
       "11   18           3     7          UK  YES\n",
       "12   45           9     9          UK  YES"
      ]
     },
     "execution_count": 4,
     "metadata": {},
     "output_type": "execute_result"
    }
   ],
   "source": [
    "#Checa los datos y extrae el dataframe \n",
    "#Chica, mucho ojo con las variables. Escribirlas en mayúsculas como arriba. \n",
    "df=extraer_datos(DOWNLOAD_ROOT,COMEDIANTES)\n",
    "#Es un dataframe chiquito pero útil :) \n",
    "df\n",
    "#Recuerda que Go es el veredicto de si será o no será comediante"
   ]
  },
  {
   "cell_type": "code",
   "execution_count": 5,
   "id": "1aff0021-4f61-4118-83cd-4e349ff8ea4a",
   "metadata": {},
   "outputs": [
    {
     "data": {
      "text/html": [
       "<div>\n",
       "<style scoped>\n",
       "    .dataframe tbody tr th:only-of-type {\n",
       "        vertical-align: middle;\n",
       "    }\n",
       "\n",
       "    .dataframe tbody tr th {\n",
       "        vertical-align: top;\n",
       "    }\n",
       "\n",
       "    .dataframe thead th {\n",
       "        text-align: right;\n",
       "    }\n",
       "</style>\n",
       "<table border=\"1\" class=\"dataframe\">\n",
       "  <thead>\n",
       "    <tr style=\"text-align: right;\">\n",
       "      <th></th>\n",
       "      <th>Age</th>\n",
       "      <th>Experience</th>\n",
       "      <th>Rank</th>\n",
       "      <th>Nationality</th>\n",
       "      <th>Go</th>\n",
       "    </tr>\n",
       "  </thead>\n",
       "  <tbody>\n",
       "    <tr>\n",
       "      <th>0</th>\n",
       "      <td>36</td>\n",
       "      <td>10</td>\n",
       "      <td>9</td>\n",
       "      <td>1</td>\n",
       "      <td>0</td>\n",
       "    </tr>\n",
       "    <tr>\n",
       "      <th>1</th>\n",
       "      <td>42</td>\n",
       "      <td>12</td>\n",
       "      <td>4</td>\n",
       "      <td>2</td>\n",
       "      <td>0</td>\n",
       "    </tr>\n",
       "    <tr>\n",
       "      <th>2</th>\n",
       "      <td>23</td>\n",
       "      <td>4</td>\n",
       "      <td>6</td>\n",
       "      <td>0</td>\n",
       "      <td>0</td>\n",
       "    </tr>\n",
       "    <tr>\n",
       "      <th>3</th>\n",
       "      <td>52</td>\n",
       "      <td>4</td>\n",
       "      <td>4</td>\n",
       "      <td>2</td>\n",
       "      <td>0</td>\n",
       "    </tr>\n",
       "    <tr>\n",
       "      <th>4</th>\n",
       "      <td>43</td>\n",
       "      <td>21</td>\n",
       "      <td>8</td>\n",
       "      <td>2</td>\n",
       "      <td>1</td>\n",
       "    </tr>\n",
       "    <tr>\n",
       "      <th>5</th>\n",
       "      <td>44</td>\n",
       "      <td>14</td>\n",
       "      <td>5</td>\n",
       "      <td>1</td>\n",
       "      <td>0</td>\n",
       "    </tr>\n",
       "    <tr>\n",
       "      <th>6</th>\n",
       "      <td>66</td>\n",
       "      <td>3</td>\n",
       "      <td>7</td>\n",
       "      <td>0</td>\n",
       "      <td>1</td>\n",
       "    </tr>\n",
       "    <tr>\n",
       "      <th>7</th>\n",
       "      <td>35</td>\n",
       "      <td>14</td>\n",
       "      <td>9</td>\n",
       "      <td>1</td>\n",
       "      <td>1</td>\n",
       "    </tr>\n",
       "    <tr>\n",
       "      <th>8</th>\n",
       "      <td>52</td>\n",
       "      <td>13</td>\n",
       "      <td>7</td>\n",
       "      <td>0</td>\n",
       "      <td>1</td>\n",
       "    </tr>\n",
       "    <tr>\n",
       "      <th>9</th>\n",
       "      <td>35</td>\n",
       "      <td>5</td>\n",
       "      <td>9</td>\n",
       "      <td>0</td>\n",
       "      <td>1</td>\n",
       "    </tr>\n",
       "    <tr>\n",
       "      <th>10</th>\n",
       "      <td>24</td>\n",
       "      <td>3</td>\n",
       "      <td>5</td>\n",
       "      <td>2</td>\n",
       "      <td>0</td>\n",
       "    </tr>\n",
       "    <tr>\n",
       "      <th>11</th>\n",
       "      <td>18</td>\n",
       "      <td>3</td>\n",
       "      <td>7</td>\n",
       "      <td>1</td>\n",
       "      <td>1</td>\n",
       "    </tr>\n",
       "    <tr>\n",
       "      <th>12</th>\n",
       "      <td>45</td>\n",
       "      <td>9</td>\n",
       "      <td>9</td>\n",
       "      <td>1</td>\n",
       "      <td>1</td>\n",
       "    </tr>\n",
       "  </tbody>\n",
       "</table>\n",
       "</div>"
      ],
      "text/plain": [
       "    Age  Experience  Rank  Nationality  Go\n",
       "0    36          10     9            1   0\n",
       "1    42          12     4            2   0\n",
       "2    23           4     6            0   0\n",
       "3    52           4     4            2   0\n",
       "4    43          21     8            2   1\n",
       "5    44          14     5            1   0\n",
       "6    66           3     7            0   1\n",
       "7    35          14     9            1   1\n",
       "8    52          13     7            0   1\n",
       "9    35           5     9            0   1\n",
       "10   24           3     5            2   0\n",
       "11   18           3     7            1   1\n",
       "12   45           9     9            1   1"
      ]
     },
     "execution_count": 5,
     "metadata": {},
     "output_type": "execute_result"
    }
   ],
   "source": [
    "#Utiliza el label_encoder para asignar un valor numérico a Nacionalidad y a Go\n",
    "from sklearn.preprocessing import LabelEncoder\n",
    "\n",
    "def label_encoder(datos_categoria):\n",
    "    le = LabelEncoder()\n",
    "    df[datos_categoria] = le.fit_transform(df[datos_categoria])\n",
    "\n",
    "variables = [\"Nationality\",\"Go\"]\n",
    "\n",
    "for l in variables:\n",
    "    label_encoder(l)\n",
    "#verifica que las variables \"Nacionality\" y \"Go\" se cambiaron a valores numéricos \n",
    "df"
   ]
  },
  {
   "cell_type": "code",
   "execution_count": 10,
   "id": "877bfd69-73e2-4583-998b-ceeab91fb602",
   "metadata": {},
   "outputs": [],
   "source": [
    "#Separa en dos partes el dataframe \n",
    "y = df[\"Go\"]\n",
    "x = df.drop(\"Go\",axis=1)"
   ]
  },
  {
   "cell_type": "code",
   "execution_count": 11,
   "id": "d1e6c5af-bb69-4933-bb59-f1c1d04a4fe1",
   "metadata": {},
   "outputs": [
    {
     "data": {
      "text/plain": [
       "0     0\n",
       "1     0\n",
       "2     0\n",
       "3     0\n",
       "4     1\n",
       "5     0\n",
       "6     1\n",
       "7     1\n",
       "8     1\n",
       "9     1\n",
       "10    0\n",
       "11    1\n",
       "12    1\n",
       "Name: Go, dtype: int64"
      ]
     },
     "execution_count": 11,
     "metadata": {},
     "output_type": "execute_result"
    }
   ],
   "source": [
    "#verifica que se haya hecho la separación \n",
    "x\n",
    "y"
   ]
  },
  {
   "cell_type": "code",
   "execution_count": 12,
   "id": "bfdd4315-8790-4a3a-968b-edca75437790",
   "metadata": {},
   "outputs": [
    {
     "data": {
      "text/plain": [
       "DecisionTreeClassifier()"
      ]
     },
     "execution_count": 12,
     "metadata": {},
     "output_type": "execute_result"
    }
   ],
   "source": [
    "#Carnita del asunto:Haz el clasificador de DecisionTree\n",
    "    #Importa la función\n",
    "from sklearn.tree import DecisionTreeClassifier\n",
    "    #Haz el objeto \n",
    "arbol = DecisionTreeClassifier()\n",
    "    #Haz el ajuste\n",
    "arbol.fit(x,y)"
   ]
  },
  {
   "cell_type": "code",
   "execution_count": 13,
   "id": "b702bab9-2d8c-4a36-bfc0-1bc3fd601a25",
   "metadata": {},
   "outputs": [
    {
     "data": {
      "text/plain": [
       "[Text(0.3333333333333333, 0.875, 'Rank <= 6.5\\ngini = 0.497\\nsamples = 13\\nvalue = [6, 7]'),\n",
       " Text(0.16666666666666666, 0.625, 'gini = 0.0\\nsamples = 5\\nvalue = [5, 0]'),\n",
       " Text(0.5, 0.625, 'Experience <= 9.5\\ngini = 0.219\\nsamples = 8\\nvalue = [1, 7]'),\n",
       " Text(0.3333333333333333, 0.375, 'gini = 0.0\\nsamples = 4\\nvalue = [0, 4]'),\n",
       " Text(0.6666666666666666, 0.375, 'Experience <= 11.5\\ngini = 0.375\\nsamples = 4\\nvalue = [1, 3]'),\n",
       " Text(0.5, 0.125, 'gini = 0.0\\nsamples = 1\\nvalue = [1, 0]'),\n",
       " Text(0.8333333333333334, 0.125, 'gini = 0.0\\nsamples = 3\\nvalue = [0, 3]')]"
      ]
     },
     "execution_count": 13,
     "metadata": {},
     "output_type": "execute_result"
    },
    {
     "data": {
      "image/png": "[encoded data removed]",
      "text/plain": [
       "<Figure size 432x288 with 1 Axes>"
      ]
     },
     "metadata": {
      "needs_background": "light"
     },
     "output_type": "display_data"
    }
   ],
   "source": [
    "#Gráfica el árbol de decisión \n",
    "from sklearn import tree\n",
    "tree.plot_tree(arbol,feature_names=x.columns,rounded=True,filled=True)"
   ]
  },
  {
   "cell_type": "markdown",
   "id": "641fbd0e-8ce3-4e12-b30b-101002c146bc",
   "metadata": {},
   "source": [
    "***"
   ]
  },
  {
   "cell_type": "markdown",
   "id": "d4a4dbef-3e78-49b0-ba8a-defc0edd990b",
   "metadata": {},
   "source": [
    "## <span style=\"color:green\">2. Probabilidades</span>"
   ]
  },
  {
   "cell_type": "markdown",
   "id": "289b2636-936d-4369-a582-e2612b34c6bf",
   "metadata": {},
   "source": [
    "También permite estimar probabilidades 🥳. Lo veremos con un ejemplo:"
   ]
  },
  {
   "cell_type": "code",
   "execution_count": 14,
   "id": "8b18e425-6bd7-44c8-b07f-f627c38b23d4",
   "metadata": {},
   "outputs": [
    {
     "name": "stderr",
     "output_type": "stream",
     "text": [
      "/Users/karenrg/my_env/lib/python3.9/site-packages/sklearn/base.py:450: UserWarning: X does not have valid feature names, but DecisionTreeClassifier was fitted with feature names\n",
      "  warnings.warn(\n"
     ]
    },
    {
     "data": {
      "text/plain": [
       "array([[0., 1.]])"
      ]
     },
     "execution_count": 14,
     "metadata": {},
     "output_type": "execute_result"
    }
   ],
   "source": [
    "#Selecciona una persona aleatoria para estimar su probabilidad y juega con las variables \n",
    "arbol.predict_proba([[40,6,7,1]])"
   ]
  },
  {
   "cell_type": "markdown",
   "id": "f23653e7-d50d-4ce3-9ea7-74c7733776bf",
   "metadata": {},
   "source": [
    "👀 -El orden de las variables esta como: **Edad, experiencia, rango y nacionalidad**"
   ]
  },
  {
   "cell_type": "markdown",
   "id": "8082b6a2-278e-468c-bcc2-038d8078b3de",
   "metadata": {},
   "source": [
    "El resultado esta como : lado izquierdo= No comediante - lado derecho=Comediante"
   ]
  },
  {
   "cell_type": "markdown",
   "id": "5bc275b7-891c-4744-a737-b6e8f2b7562d",
   "metadata": {},
   "source": [
    "---"
   ]
  },
  {
   "cell_type": "markdown",
   "id": "f90cf876-63c5-4d5b-bb96-9a336ab2baa5",
   "metadata": {},
   "source": [
    "## <span style=\"color:green\">3. Regresión</span>"
   ]
  },
  {
   "cell_type": "markdown",
   "id": "6add2b03-0e33-475a-995e-302ff7351d59",
   "metadata": {},
   "source": [
    "Los árboles de decisión 🌳 tambien pueden hacer regresiones lineales."
   ]
  },
  {
   "cell_type": "code",
   "execution_count": 22,
   "id": "23c4790c-ce85-45bd-ac97-1dcf9302073f",
   "metadata": {},
   "outputs": [
    {
     "data": {
      "text/plain": [
       "<matplotlib.collections.PathCollection at 0x7fd4ff00d670>"
      ]
     },
     "execution_count": 22,
     "metadata": {},
     "output_type": "execute_result"
    },
    {
     "data": {
      "image/png": "[encoded data removed]",
      "text/plain": [
       "<Figure size 432x288 with 1 Axes>"
      ]
     },
     "metadata": {
      "needs_background": "light"
     },
     "output_type": "display_data"
    }
   ],
   "source": [
    "#Genera 100 número aleatorios y añade un poco de aleatoriedad \n",
    "m = 100\n",
    "x = 3 * np.random.rand(m,1) - 3\n",
    "y = 2 + x + 0.5*x**2 + np.random.rand(m,1)\n",
    "#np.c_[([x])]\n",
    "plt.scatter(x,y)"
   ]
  },
  {
   "cell_type": "code",
   "execution_count": 23,
   "id": "9c93c57b-046f-410a-bda2-dfe45b6482c6",
   "metadata": {},
   "outputs": [
    {
     "data": {
      "text/plain": [
       "DecisionTreeRegressor(max_depth=2)"
      ]
     },
     "execution_count": 23,
     "metadata": {},
     "output_type": "execute_result"
    }
   ],
   "source": [
    "#Crea un  árbol de decisión con un hiperparametro de 2\n",
    "from sklearn.tree import DecisionTreeRegressor\n",
    "arbol = DecisionTreeRegressor(max_depth=2)\n",
    "arbol.fit(x,y)"
   ]
  },
  {
   "cell_type": "code",
   "execution_count": 24,
   "id": "bf67ed85-ee3e-45d4-8ac7-dd4802c5d220",
   "metadata": {},
   "outputs": [
    {
     "data": {
      "text/plain": [
       "[Text(0.5, 0.8333333333333334, 'X[0] <= -2.285\\nsquared_error = 0.318\\nsamples = 100\\nvalue = 2.495'),\n",
       " Text(0.25, 0.5, 'X[0] <= -2.784\\nsquared_error = 0.12\\nsamples = 23\\nvalue = 3.308'),\n",
       " Text(0.125, 0.16666666666666666, 'squared_error = 0.065\\nsamples = 8\\nvalue = 3.642'),\n",
       " Text(0.375, 0.16666666666666666, 'squared_error = 0.058\\nsamples = 15\\nvalue = 3.13'),\n",
       " Text(0.75, 0.5, 'X[0] <= -1.776\\nsquared_error = 0.121\\nsamples = 77\\nvalue = 2.253'),\n",
       " Text(0.625, 0.16666666666666666, 'squared_error = 0.062\\nsamples = 21\\nvalue = 2.56'),\n",
       " Text(0.875, 0.16666666666666666, 'squared_error = 0.094\\nsamples = 56\\nvalue = 2.137')]"
      ]
     },
     "execution_count": 24,
     "metadata": {},
     "output_type": "execute_result"
    },
    {
     "data": {
      "image/png": "[encoded data removed]",
      "text/plain": [
       "<Figure size 432x288 with 1 Axes>"
      ]
     },
     "metadata": {
      "needs_background": "light"
     },
     "output_type": "display_data"
    }
   ],
   "source": [
    "#Dale formato a tu arbolito bebé 🌳\n",
    "tree.plot_tree(arbol,rounded=True,filled=True)"
   ]
  },
  {
   "cell_type": "markdown",
   "id": "c768c245-38fe-446a-8fa9-bb230b44cf65",
   "metadata": {},
   "source": [
    "Recuerda que pusimos una profundidad máxima de 2, esto lo decides tu con base a tus objetivos."
   ]
  },
  {
   "cell_type": "markdown",
   "id": "eaceeb2e-ce67-4e93-80aa-2c6309a14e07",
   "metadata": {},
   "source": [
    "KEY: **mse**= Mean Square Error es equivalente al GINI. Te indica el nivel de impureza. **nsamples=** Cantidad de muestras por nodo. **nvalue=** Valor"
   ]
  },
  {
   "cell_type": "code",
   "execution_count": 25,
   "id": "02135985-9f06-4da3-bb89-a56df7b093b6",
   "metadata": {},
   "outputs": [
    {
     "data": {
      "text/plain": [
       "[<matplotlib.lines.Line2D at 0x7fd4ff17e7c0>]"
      ]
     },
     "execution_count": 25,
     "metadata": {},
     "output_type": "execute_result"
    },
    {
     "data": {
      "image/png": "[encoded data removed]",
      "text/plain": [
       "<Figure size 432x288 with 1 Axes>"
      ]
     },
     "metadata": {
      "needs_background": "light"
     },
     "output_type": "display_data"
    }
   ],
   "source": [
    "#Hacer gráfica toda complicada :(\n",
    "x1 = np.linspace(-3,-2.568)\n",
    "y1 = np.linspace(3.5818,3.5818)\n",
    "x2 = np.linspace(-2.569,-2.008)\n",
    "y2 = np.linspace(2.834,2.834)\n",
    "x3 = np.linspace(-2.009,-0.151)\n",
    "y3 = np.linspace(2.075,2.075)\n",
    "x4 = np.linspace(-0.152,0)\n",
    "y4 = np.linspace(2.392,2.392)\n",
    "plt.scatter(x,y)\n",
    "plt.plot(x1,y1,\"r-\",linewidth=5)\n",
    "plt.plot(x2,y2,\"r-\",linewidth=5)\n",
    "plt.plot(x3,y3,\"r-\",linewidth=5)\n",
    "plt.plot(x4,y4,\"r-\",linewidth=5)"
   ]
  },
  {
   "cell_type": "markdown",
   "id": "21a9707c-b8de-4c93-b2fc-c7ce33b36abf",
   "metadata": {},
   "source": [
    "Los nodos se ven representados por cada linea rojo"
   ]
  },
  {
   "cell_type": "code",
   "execution_count": 28,
   "id": "86acafb6-1eff-4950-84ef-e93d036c7a45",
   "metadata": {},
   "outputs": [
    {
     "data": {
      "text/plain": [
       "[Text(0.5, 0.875, 'X[0] <= -2.285\\nsquared_error = 0.318\\nsamples = 100\\nvalue = 2.495'),\n",
       " Text(0.25, 0.625, 'X[0] <= -2.784\\nsquared_error = 0.12\\nsamples = 23\\nvalue = 3.308'),\n",
       " Text(0.125, 0.375, 'X[0] <= -2.966\\nsquared_error = 0.065\\nsamples = 8\\nvalue = 3.642'),\n",
       " Text(0.0625, 0.125, 'squared_error = 0.0\\nsamples = 1\\nvalue = 4.159'),\n",
       " Text(0.1875, 0.125, 'squared_error = 0.031\\nsamples = 7\\nvalue = 3.569'),\n",
       " Text(0.375, 0.375, 'X[0] <= -2.351\\nsquared_error = 0.058\\nsamples = 15\\nvalue = 3.13'),\n",
       " Text(0.3125, 0.125, 'squared_error = 0.018\\nsamples = 11\\nvalue = 3.229'),\n",
       " Text(0.4375, 0.125, 'squared_error = 0.069\\nsamples = 4\\nvalue = 2.858'),\n",
       " Text(0.75, 0.625, 'X[0] <= -1.776\\nsquared_error = 0.121\\nsamples = 77\\nvalue = 2.253'),\n",
       " Text(0.625, 0.375, 'X[0] <= -2.074\\nsquared_error = 0.062\\nsamples = 21\\nvalue = 2.56'),\n",
       " Text(0.5625, 0.125, 'squared_error = 0.042\\nsamples = 11\\nvalue = 2.686'),\n",
       " Text(0.6875, 0.125, 'squared_error = 0.047\\nsamples = 10\\nvalue = 2.42'),\n",
       " Text(0.875, 0.375, 'X[0] <= -0.594\\nsquared_error = 0.094\\nsamples = 56\\nvalue = 2.137'),\n",
       " Text(0.8125, 0.125, 'squared_error = 0.091\\nsamples = 39\\nvalue = 2.075'),\n",
       " Text(0.9375, 0.125, 'squared_error = 0.07\\nsamples = 17\\nvalue = 2.281')]"
      ]
     },
     "execution_count": 28,
     "metadata": {},
     "output_type": "execute_result"
    },
    {
     "data": {
      "image/png": "[encoded data removed]",
      "text/plain": [
       "<Figure size 432x288 with 1 Axes>"
      ]
     },
     "metadata": {
      "needs_background": "light"
     },
     "output_type": "display_data"
    }
   ],
   "source": [
    "#Arreglar el sobreajuste poniendo una profundidad máxima mayor a la anterior. Ej: 3. \n",
    "from sklearn.tree import DecisionTreeRegressor\n",
    "arbol = DecisionTreeRegressor(max_depth=3)\n",
    "arbol.fit(x,y)\n",
    "#Gráficalo \n",
    "tree.plot_tree(arbol,rounded=True,filled=True)\n",
    "#tree.plot_tree(arbol,rounded=True,filled=True,fontsize=15)Para hacer más grande la letra ajustar fontsize"
   ]
  },
  {
   "cell_type": "code",
   "execution_count": 30,
   "id": "704a2989-1cc1-4c84-a863-e76ef2b90f75",
   "metadata": {},
   "outputs": [
    {
     "data": {
      "text/plain": [
       "DecisionTreeRegressor()"
      ]
     },
     "execution_count": 30,
     "metadata": {},
     "output_type": "execute_result"
    }
   ],
   "source": [
    "#Haz un árbol de decisiones sin restricciones\n",
    "from sklearn.tree import DecisionTreeRegressor\n",
    "arbol = DecisionTreeRegressor()\n",
    "arbol.fit(x,y)"
   ]
  },
  {
   "cell_type": "code",
   "execution_count": 31,
   "id": "fe10a0a3-f16d-4db4-9a9c-d8f35ed6d24a",
   "metadata": {},
   "outputs": [
    {
     "data": {
      "text/plain": [
       "[Text(0.3601474223163842, 0.9736842105263158, 'X[0] <= -2.221\\nsquared_error = 0.348\\nsamples = 100\\nvalue = 2.523'),\n",
       " Text(0.11864406779661017, 0.9210526315789473, 'X[0] <= -2.851\\nsquared_error = 0.182\\nsamples = 27\\nvalue = 1.756'),\n",
       " Text(0.04519774011299435, 0.868421052631579, 'X[0] <= -2.974\\nsquared_error = 0.108\\nsamples = 5\\nvalue = 1.076'),\n",
       " Text(0.022598870056497175, 0.8157894736842105, 'X[0] <= -2.988\\nsquared_error = 0.021\\nsamples = 2\\nvalue = 0.864'),\n",
       " Text(0.011299435028248588, 0.7631578947368421, 'squared_error = 0.0\\nsamples = 1\\nvalue = 1.009'),\n",
       " Text(0.03389830508474576, 0.7631578947368421, 'squared_error = 0.0\\nsamples = 1\\nvalue = 0.719'),\n",
       " Text(0.06779661016949153, 0.8157894736842105, 'X[0] <= -2.88\\nsquared_error = 0.116\\nsamples = 3\\nvalue = 1.218'),\n",
       " Text(0.05649717514124294, 0.7631578947368421, 'X[0] <= -2.921\\nsquared_error = 0.074\\nsamples = 2\\nvalue = 1.4'),\n",
       " Text(0.04519774011299435, 0.7105263157894737, 'squared_error = 0.0\\nsamples = 1\\nvalue = 1.127'),\n",
       " Text(0.06779661016949153, 0.7105263157894737, 'squared_error = -0.0\\nsamples = 1\\nvalue = 1.673'),\n",
       " Text(0.07909604519774012, 0.7631578947368421, 'squared_error = 0.0\\nsamples = 1\\nvalue = 0.853'),\n",
       " Text(0.192090395480226, 0.868421052631579, 'X[0] <= -2.456\\nsquared_error = 0.07\\nsamples = 22\\nvalue = 1.911'),\n",
       " Text(0.14124293785310735, 0.8157894736842105, 'X[0] <= -2.547\\nsquared_error = 0.084\\nsamples = 8\\nvalue = 1.735'),\n",
       " Text(0.11299435028248588, 0.7631578947368421, 'X[0] <= -2.607\\nsquared_error = 0.095\\nsamples = 5\\nvalue = 1.853'),\n",
       " Text(0.0903954802259887, 0.7105263157894737, 'X[0] <= -2.819\\nsquared_error = 0.013\\nsamples = 3\\nvalue = 1.612'),\n",
       " Text(0.07909604519774012, 0.6578947368421053, 'squared_error = 0.0\\nsamples = 1\\nvalue = 1.71'),\n",
       " Text(0.1016949152542373, 0.6578947368421053, 'X[0] <= -2.726\\nsquared_error = 0.012\\nsamples = 2\\nvalue = 1.562'),\n",
       " Text(0.0903954802259887, 0.6052631578947368, 'squared_error = 0.0\\nsamples = 1\\nvalue = 1.453'),\n",
       " Text(0.11299435028248588, 0.6052631578947368, 'squared_error = 0.0\\nsamples = 1\\nvalue = 1.672'),\n",
       " Text(0.13559322033898305, 0.7105263157894737, 'X[0] <= -2.563\\nsquared_error = 0.0\\nsamples = 2\\nvalue = 2.214'),\n",
       " Text(0.12429378531073447, 0.6578947368421053, 'squared_error = 0.0\\nsamples = 1\\nvalue = 2.217'),\n",
       " Text(0.14689265536723164, 0.6578947368421053, 'squared_error = 0.0\\nsamples = 1\\nvalue = 2.212'),\n",
       " Text(0.1694915254237288, 0.7631578947368421, 'X[0] <= -2.541\\nsquared_error = 0.005\\nsamples = 3\\nvalue = 1.539'),\n",
       " Text(0.15819209039548024, 0.7105263157894737, 'squared_error = 0.0\\nsamples = 1\\nvalue = 1.447'),\n",
       " Text(0.1807909604519774, 0.7105263157894737, 'X[0] <= -2.504\\nsquared_error = 0.001\\nsamples = 2\\nvalue = 1.585'),\n",
       " Text(0.1694915254237288, 0.6578947368421053, 'squared_error = 0.0\\nsamples = 1\\nvalue = 1.557'),\n",
       " Text(0.192090395480226, 0.6578947368421053, 'squared_error = -0.0\\nsamples = 1\\nvalue = 1.614'),\n",
       " Text(0.24293785310734464, 0.8157894736842105, 'X[0] <= -2.436\\nsquared_error = 0.033\\nsamples = 14\\nvalue = 2.011'),\n",
       " Text(0.21468926553672316, 0.7631578947368421, 'X[0] <= -2.439\\nsquared_error = 0.0\\nsamples = 2\\nvalue = 2.194'),\n",
       " Text(0.2033898305084746, 0.7105263157894737, 'squared_error = 0.0\\nsamples = 1\\nvalue = 2.212'),\n",
       " Text(0.22598870056497175, 0.7105263157894737, 'squared_error = -0.0\\nsamples = 1\\nvalue = 2.177'),\n",
       " Text(0.2711864406779661, 0.7631578947368421, 'X[0] <= -2.399\\nsquared_error = 0.032\\nsamples = 12\\nvalue = 1.98'),\n",
       " Text(0.24858757062146894, 0.7105263157894737, 'X[0] <= -2.417\\nsquared_error = 0.012\\nsamples = 2\\nvalue = 1.712'),\n",
       " Text(0.23728813559322035, 0.6578947368421053, 'squared_error = 0.0\\nsamples = 1\\nvalue = 1.823'),\n",
       " Text(0.2598870056497175, 0.6578947368421053, 'squared_error = 0.0\\nsamples = 1\\nvalue = 1.601'),\n",
       " Text(0.2937853107344633, 0.7105263157894737, 'X[0] <= -2.376\\nsquared_error = 0.019\\nsamples = 10\\nvalue = 2.034'),\n",
       " Text(0.2824858757062147, 0.6578947368421053, 'squared_error = 0.0\\nsamples = 1\\nvalue = 2.267'),\n",
       " Text(0.3050847457627119, 0.6578947368421053, 'X[0] <= -2.259\\nsquared_error = 0.015\\nsamples = 9\\nvalue = 2.008'),\n",
       " Text(0.2937853107344633, 0.6052631578947368, 'X[0] <= -2.291\\nsquared_error = 0.011\\nsamples = 8\\nvalue = 1.984'),\n",
       " Text(0.2598870056497175, 0.5526315789473685, 'X[0] <= -2.345\\nsquared_error = 0.008\\nsamples = 4\\nvalue = 1.939'),\n",
       " Text(0.24858757062146894, 0.5, 'squared_error = 0.0\\nsamples = 1\\nvalue = 2.082'),\n",
       " Text(0.2711864406779661, 0.5, 'X[0] <= -2.312\\nsquared_error = 0.001\\nsamples = 3\\nvalue = 1.891'),\n",
       " Text(0.2598870056497175, 0.4473684210526316, 'X[0] <= -2.334\\nsquared_error = 0.001\\nsamples = 2\\nvalue = 1.906'),\n",
       " Text(0.24858757062146894, 0.39473684210526316, 'squared_error = 0.0\\nsamples = 1\\nvalue = 1.872'),\n",
       " Text(0.2711864406779661, 0.39473684210526316, 'squared_error = 0.0\\nsamples = 1\\nvalue = 1.94'),\n",
       " Text(0.2824858757062147, 0.4473684210526316, 'squared_error = -0.0\\nsamples = 1\\nvalue = 1.862'),\n",
       " Text(0.327683615819209, 0.5526315789473685, 'X[0] <= -2.282\\nsquared_error = 0.01\\nsamples = 4\\nvalue = 2.028'),\n",
       " Text(0.3163841807909605, 0.5, 'X[0] <= -2.284\\nsquared_error = 0.007\\nsamples = 3\\nvalue = 2.07'),\n",
       " Text(0.3050847457627119, 0.4473684210526316, 'X[0] <= -2.287\\nsquared_error = 0.001\\nsamples = 2\\nvalue = 2.013'),\n",
       " Text(0.2937853107344633, 0.39473684210526316, 'squared_error = 0.0\\nsamples = 1\\nvalue = 2.037'),\n",
       " Text(0.3163841807909605, 0.39473684210526316, 'squared_error = -0.0\\nsamples = 1\\nvalue = 1.988'),\n",
       " Text(0.327683615819209, 0.4473684210526316, 'squared_error = 0.0\\nsamples = 1\\nvalue = 2.183'),\n",
       " Text(0.3389830508474576, 0.5, 'squared_error = 0.0\\nsamples = 1\\nvalue = 1.904'),\n",
       " Text(0.3163841807909605, 0.6052631578947368, 'squared_error = 0.0\\nsamples = 1\\nvalue = 2.205'),\n",
       " Text(0.6016507768361582, 0.9210526315789473, 'X[0] <= -1.805\\nsquared_error = 0.112\\nsamples = 73\\nvalue = 2.807'),\n",
       " Text(0.384180790960452, 0.868421052631579, 'X[0] <= -2.113\\nsquared_error = 0.103\\nsamples = 13\\nvalue = 2.493'),\n",
       " Text(0.3163841807909605, 0.8157894736842105, 'X[0] <= -2.183\\nsquared_error = 0.174\\nsamples = 4\\nvalue = 2.308'),\n",
       " Text(0.3050847457627119, 0.7631578947368421, 'squared_error = 0.0\\nsamples = 1\\nvalue = 2.771'),\n",
       " Text(0.327683615819209, 0.7631578947368421, 'X[0] <= -2.144\\nsquared_error = 0.137\\nsamples = 3\\nvalue = 2.154'),\n",
       " Text(0.3163841807909605, 0.7105263157894737, 'squared_error = 0.0\\nsamples = 1\\nvalue = 1.842'),\n",
       " Text(0.3389830508474576, 0.7105263157894737, 'X[0] <= -2.121\\nsquared_error = 0.133\\nsamples = 2\\nvalue = 2.31'),\n",
       " Text(0.327683615819209, 0.6578947368421053, 'squared_error = 0.0\\nsamples = 1\\nvalue = 2.674'),\n",
       " Text(0.3502824858757062, 0.6578947368421053, 'squared_error = 0.0\\nsamples = 1\\nvalue = 1.946'),\n",
       " Text(0.4519774011299435, 0.8157894736842105, 'X[0] <= -1.903\\nsquared_error = 0.05\\nsamples = 9\\nvalue = 2.574'),\n",
       " Text(0.4180790960451977, 0.7631578947368421, 'X[0] <= -1.976\\nsquared_error = 0.038\\nsamples = 7\\nvalue = 2.627'),\n",
       " Text(0.384180790960452, 0.7105263157894737, 'X[0] <= -2.108\\nsquared_error = 0.033\\nsamples = 4\\nvalue = 2.525'),\n",
       " Text(0.3728813559322034, 0.6578947368421053, 'squared_error = 0.0\\nsamples = 1\\nvalue = 2.739'),\n",
       " Text(0.3954802259887006, 0.6578947368421053, 'X[0] <= -2.075\\nsquared_error = 0.024\\nsamples = 3\\nvalue = 2.454'),\n",
       " Text(0.384180790960452, 0.6052631578947368, 'squared_error = 0.0\\nsamples = 1\\nvalue = 2.241'),\n",
       " Text(0.4067796610169492, 0.6052631578947368, 'X[0] <= -2.037\\nsquared_error = 0.002\\nsamples = 2\\nvalue = 2.56'),\n",
       " Text(0.3954802259887006, 0.5526315789473685, 'squared_error = 0.0\\nsamples = 1\\nvalue = 2.601'),\n",
       " Text(0.4180790960451977, 0.5526315789473685, 'squared_error = -0.0\\nsamples = 1\\nvalue = 2.52'),\n",
       " Text(0.4519774011299435, 0.7105263157894737, 'X[0] <= -1.912\\nsquared_error = 0.011\\nsamples = 3\\nvalue = 2.763'),\n",
       " Text(0.4406779661016949, 0.6578947368421053, 'X[0] <= -1.92\\nsquared_error = 0.009\\nsamples = 2\\nvalue = 2.815'),\n",
       " Text(0.4293785310734463, 0.6052631578947368, 'squared_error = 0.0\\nsamples = 1\\nvalue = 2.721'),\n",
       " Text(0.4519774011299435, 0.6052631578947368, 'squared_error = 0.0\\nsamples = 1\\nvalue = 2.91'),\n",
       " Text(0.4632768361581921, 0.6578947368421053, 'squared_error = 0.0\\nsamples = 1\\nvalue = 2.658'),\n",
       " Text(0.4858757062146893, 0.7631578947368421, 'X[0] <= -1.859\\nsquared_error = 0.048\\nsamples = 2\\nvalue = 2.39'),\n",
       " Text(0.4745762711864407, 0.7105263157894737, 'squared_error = 0.0\\nsamples = 1\\nvalue = 2.172'),\n",
       " Text(0.4971751412429379, 0.7105263157894737, 'squared_error = 0.0\\nsamples = 1\\nvalue = 2.609'),\n",
       " Text(0.8191207627118644, 0.868421052631579, 'X[0] <= -0.507\\nsquared_error = 0.088\\nsamples = 60\\nvalue = 2.875'),\n",
       " Text(0.7060381355932204, 0.8157894736842105, 'X[0] <= -0.631\\nsquared_error = 0.066\\nsamples = 45\\nvalue = 2.956'),\n",
       " Text(0.650776836158192, 0.7631578947368421, 'X[0] <= -0.673\\nsquared_error = 0.065\\nsamples = 41\\nvalue = 2.935'),\n",
       " Text(0.5967514124293786, 0.7105263157894737, 'X[0] <= -1.378\\nsquared_error = 0.058\\nsamples = 39\\nvalue = 2.957'),\n",
       " Text(0.5225988700564972, 0.6578947368421053, 'X[0] <= -1.552\\nsquared_error = 0.025\\nsamples = 14\\nvalue = 3.013'),\n",
       " Text(0.4745762711864407, 0.6052631578947368, 'X[0] <= -1.574\\nsquared_error = 0.027\\nsamples = 8\\nvalue = 2.951'),\n",
       " Text(0.4519774011299435, 0.5526315789473685, 'X[0] <= -1.593\\nsquared_error = 0.012\\nsamples = 6\\nvalue = 3.028'),\n",
       " Text(0.4406779661016949, 0.5, 'X[0] <= -1.736\\nsquared_error = 0.003\\nsamples = 5\\nvalue = 2.985'),\n",
       " Text(0.4180790960451977, 0.4473684210526316, 'X[0] <= -1.789\\nsquared_error = 0.0\\nsamples = 2\\nvalue = 2.929'),\n",
       " Text(0.4067796610169492, 0.39473684210526316, 'squared_error = 0.0\\nsamples = 1\\nvalue = 2.934'),\n",
       " Text(0.4293785310734463, 0.39473684210526316, 'squared_error = -0.0\\nsamples = 1\\nvalue = 2.924'),\n",
       " Text(0.4632768361581921, 0.4473684210526316, 'X[0] <= -1.615\\nsquared_error = 0.002\\nsamples = 3\\nvalue = 3.023'),\n",
       " Text(0.4519774011299435, 0.39473684210526316, 'X[0] <= -1.653\\nsquared_error = 0.002\\nsamples = 2\\nvalue = 3.008'),\n",
       " Text(0.4406779661016949, 0.34210526315789475, 'squared_error = 0.0\\nsamples = 1\\nvalue = 3.051'),\n",
       " Text(0.4632768361581921, 0.34210526315789475, 'squared_error = 0.0\\nsamples = 1\\nvalue = 2.965'),\n",
       " Text(0.4745762711864407, 0.39473684210526316, 'squared_error = -0.0\\nsamples = 1\\nvalue = 3.053'),\n",
       " Text(0.4632768361581921, 0.5, 'squared_error = 0.0\\nsamples = 1\\nvalue = 3.242'),\n",
       " Text(0.4971751412429379, 0.5526315789473685, 'X[0] <= -1.566\\nsquared_error = 0.003\\nsamples = 2\\nvalue = 2.719'),\n",
       " Text(0.4858757062146893, 0.5, 'squared_error = 0.0\\nsamples = 1\\nvalue = 2.775'),\n",
       " Text(0.5084745762711864, 0.5, 'squared_error = 0.0\\nsamples = 1\\nvalue = 2.663'),\n",
       " Text(0.5706214689265536, 0.6052631578947368, 'X[0] <= -1.543\\nsquared_error = 0.011\\nsamples = 6\\nvalue = 3.096'),\n",
       " Text(0.5423728813559322, 0.5526315789473685, 'X[0] <= -1.545\\nsquared_error = 0.0\\nsamples = 2\\nvalue = 3.212'),\n",
       " Text(0.5310734463276836, 0.5, 'squared_error = 0.0\\nsamples = 1\\nvalue = 3.225'),\n",
       " Text(0.5536723163841808, 0.5, 'squared_error = 0.0\\nsamples = 1\\nvalue = 3.199'),\n",
       " Text(0.5988700564971752, 0.5526315789473685, 'X[0] <= -1.505\\nsquared_error = 0.006\\nsamples = 4\\nvalue = 3.038'),\n",
       " Text(0.576271186440678, 0.5, 'X[0] <= -1.53\\nsquared_error = 0.0\\nsamples = 2\\nvalue = 2.968'),\n",
       " Text(0.5649717514124294, 0.4473684210526316, 'squared_error = 0.0\\nsamples = 1\\nvalue = 2.947'),\n",
       " Text(0.5875706214689266, 0.4473684210526316, 'squared_error = 0.0\\nsamples = 1\\nvalue = 2.989'),\n",
       " Text(0.6214689265536724, 0.5, 'X[0] <= -1.439\\nsquared_error = 0.002\\nsamples = 2\\nvalue = 3.107'),\n",
       " Text(0.6101694915254238, 0.4473684210526316, 'squared_error = 0.0\\nsamples = 1\\nvalue = 3.146'),\n",
       " Text(0.632768361581921, 0.4473684210526316, 'squared_error = 0.0\\nsamples = 1\\nvalue = 3.068'),\n",
       " Text(0.6709039548022598, 0.6578947368421053, 'X[0] <= -1.318\\nsquared_error = 0.074\\nsamples = 25\\nvalue = 2.926'),\n",
       " Text(0.6483050847457628, 0.6052631578947368, 'X[0] <= -1.356\\nsquared_error = 0.0\\nsamples = 2\\nvalue = 2.618'),\n",
       " Text(0.6370056497175142, 0.5526315789473685, 'squared_error = 0.0\\nsamples = 1\\nvalue = 2.629'),\n",
       " Text(0.6596045197740112, 0.5526315789473685, 'squared_error = 0.0\\nsamples = 1\\nvalue = 2.607'),\n",
       " Text(0.693502824858757, 0.6052631578947368, 'X[0] <= -1.284\\nsquared_error = 0.072\\nsamples = 23\\nvalue = 2.953'),\n",
       " Text(0.6822033898305084, 0.5526315789473685, 'squared_error = 0.0\\nsamples = 1\\nvalue = 3.287'),\n",
       " Text(0.7048022598870056, 0.5526315789473685, 'X[0] <= -1.27\\nsquared_error = 0.07\\nsamples = 22\\nvalue = 2.938'),\n",
       " Text(0.6666666666666666, 0.5, 'X[0] <= -1.273\\nsquared_error = 0.041\\nsamples = 2\\nvalue = 2.735'),\n",
       " Text(0.655367231638418, 0.4473684210526316, 'squared_error = 0.0\\nsamples = 1\\nvalue = 2.939'),\n",
       " Text(0.6779661016949152, 0.4473684210526316, 'squared_error = 0.0\\nsamples = 1\\nvalue = 2.532'),\n",
       " Text(0.7429378531073446, 0.5, 'X[0] <= -1.064\\nsquared_error = 0.068\\nsamples = 20\\nvalue = 2.958'),\n",
       " Text(0.7005649717514124, 0.4473684210526316, 'X[0] <= -1.255\\nsquared_error = 0.023\\nsamples = 4\\nvalue = 3.109'),\n",
       " Text(0.6779661016949152, 0.39473684210526316, 'X[0] <= -1.265\\nsquared_error = 0.004\\nsamples = 2\\nvalue = 3.0'),\n",
       " Text(0.6666666666666666, 0.34210526315789475, 'squared_error = 0.0\\nsamples = 1\\nvalue = 3.063'),\n",
       " Text(0.6892655367231638, 0.34210526315789475, 'squared_error = 0.0\\nsamples = 1\\nvalue = 2.937'),\n",
       " Text(0.7231638418079096, 0.39473684210526316, 'X[0] <= -1.156\\nsquared_error = 0.018\\nsamples = 2\\nvalue = 3.217'),\n",
       " Text(0.711864406779661, 0.34210526315789475, 'squared_error = 0.0\\nsamples = 1\\nvalue = 3.35'),\n",
       " Text(0.7344632768361582, 0.34210526315789475, 'squared_error = 0.0\\nsamples = 1\\nvalue = 3.085'),\n",
       " Text(0.7853107344632768, 0.4473684210526316, 'X[0] <= -1.059\\nsquared_error = 0.072\\nsamples = 16\\nvalue = 2.921'),\n",
       " Text(0.7740112994350282, 0.39473684210526316, 'squared_error = 0.0\\nsamples = 1\\nvalue = 2.553'),\n",
       " Text(0.7966101694915254, 0.39473684210526316, 'X[0] <= -1.008\\nsquared_error = 0.067\\nsamples = 15\\nvalue = 2.945'),\n",
       " Text(0.7570621468926554, 0.34210526315789475, 'X[0] <= -1.033\\nsquared_error = 0.002\\nsamples = 2\\nvalue = 3.201'),\n",
       " Text(0.7457627118644068, 0.2894736842105263, 'squared_error = 0.0\\nsamples = 1\\nvalue = 3.158'),\n",
       " Text(0.768361581920904, 0.2894736842105263, 'squared_error = 0.0\\nsamples = 1\\nvalue = 3.244'),\n",
       " Text(0.8361581920903954, 0.34210526315789475, 'X[0] <= -0.893\\nsquared_error = 0.066\\nsamples = 13\\nvalue = 2.906'),\n",
       " Text(0.7909604519774012, 0.2894736842105263, 'X[0] <= -0.988\\nsquared_error = 0.001\\nsamples = 3\\nvalue = 2.637'),\n",
       " Text(0.7796610169491526, 0.23684210526315788, 'squared_error = 0.0\\nsamples = 1\\nvalue = 2.665'),\n",
       " Text(0.8022598870056498, 0.23684210526315788, 'X[0] <= -0.936\\nsquared_error = 0.0\\nsamples = 2\\nvalue = 2.623'),\n",
       " Text(0.7909604519774012, 0.18421052631578946, 'squared_error = 0.0\\nsamples = 1\\nvalue = 2.604'),\n",
       " Text(0.8135593220338984, 0.18421052631578946, 'squared_error = 0.0\\nsamples = 1\\nvalue = 2.642'),\n",
       " Text(0.8813559322033898, 0.2894736842105263, 'X[0] <= -0.797\\nsquared_error = 0.057\\nsamples = 10\\nvalue = 2.986'),\n",
       " Text(0.847457627118644, 0.23684210526315788, 'X[0] <= -0.848\\nsquared_error = 0.05\\nsamples = 6\\nvalue = 3.048'),\n",
       " Text(0.8361581920903954, 0.18421052631578946, 'X[0] <= -0.871\\nsquared_error = 0.021\\nsamples = 5\\nvalue = 2.968'),\n",
       " Text(0.8135593220338984, 0.13157894736842105, 'X[0] <= -0.878\\nsquared_error = 0.005\\nsamples = 2\\nvalue = 3.126'),\n",
       " Text(0.8022598870056498, 0.07894736842105263, 'squared_error = 0.0\\nsamples = 1\\nvalue = 3.2'),\n",
       " Text(0.8248587570621468, 0.07894736842105263, 'squared_error = -0.0\\nsamples = 1\\nvalue = 3.052'),\n",
       " Text(0.8587570621468926, 0.13157894736842105, 'X[0] <= -0.864\\nsquared_error = 0.004\\nsamples = 3\\nvalue = 2.863'),\n",
       " Text(0.847457627118644, 0.07894736842105263, 'squared_error = 0.0\\nsamples = 1\\nvalue = 2.775'),\n",
       " Text(0.8700564971751412, 0.07894736842105263, 'X[0] <= -0.854\\nsquared_error = 0.001\\nsamples = 2\\nvalue = 2.907'),\n",
       " Text(0.8587570621468926, 0.02631578947368421, 'squared_error = 0.0\\nsamples = 1\\nvalue = 2.882'),\n",
       " Text(0.8813559322033898, 0.02631578947368421, 'squared_error = 0.0\\nsamples = 1\\nvalue = 2.931'),\n",
       " Text(0.8587570621468926, 0.18421052631578946, 'squared_error = -0.0\\nsamples = 1\\nvalue = 3.449'),\n",
       " Text(0.9152542372881356, 0.23684210526315788, 'X[0] <= -0.716\\nsquared_error = 0.053\\nsamples = 4\\nvalue = 2.893'),\n",
       " Text(0.8926553672316384, 0.18421052631578946, 'X[0] <= -0.736\\nsquared_error = 0.02\\nsamples = 2\\nvalue = 2.732'),\n",
       " Text(0.8813559322033898, 0.13157894736842105, 'squared_error = 0.0\\nsamples = 1\\nvalue = 2.872'),\n",
       " Text(0.903954802259887, 0.13157894736842105, 'squared_error = 0.0\\nsamples = 1\\nvalue = 2.592'),\n",
       " Text(0.9378531073446328, 0.18421052631578946, 'X[0] <= -0.701\\nsquared_error = 0.035\\nsamples = 2\\nvalue = 3.055'),\n",
       " Text(0.9265536723163842, 0.13157894736842105, 'squared_error = 0.0\\nsamples = 1\\nvalue = 3.242'),\n",
       " Text(0.9491525423728814, 0.13157894736842105, 'squared_error = 0.0\\nsamples = 1\\nvalue = 2.867'),\n",
       " Text(0.7048022598870056, 0.7105263157894737, 'X[0] <= -0.65\\nsquared_error = 0.0\\nsamples = 2\\nvalue = 2.507'),\n",
       " Text(0.693502824858757, 0.6578947368421053, 'squared_error = 0.0\\nsamples = 1\\nvalue = 2.518'),\n",
       " Text(0.7161016949152542, 0.6578947368421053, 'squared_error = 0.0\\nsamples = 1\\nvalue = 2.496'),\n",
       " Text(0.7612994350282486, 0.7631578947368421, 'X[0] <= -0.541\\nsquared_error = 0.021\\nsamples = 4\\nvalue = 3.172'),\n",
       " Text(0.75, 0.7105263157894737, 'X[0] <= -0.572\\nsquared_error = 0.017\\nsamples = 3\\nvalue = 3.225'),\n",
       " Text(0.7387005649717514, 0.6578947368421053, 'X[0] <= -0.595\\nsquared_error = 0.005\\nsamples = 2\\nvalue = 3.142'),\n",
       " Text(0.7274011299435028, 0.6052631578947368, 'squared_error = 0.0\\nsamples = 1\\nvalue = 3.072'),\n",
       " Text(0.75, 0.6052631578947368, 'squared_error = -0.0\\nsamples = 1\\nvalue = 3.212'),\n",
       " Text(0.7612994350282486, 0.6578947368421053, 'squared_error = -0.0\\nsamples = 1\\nvalue = 3.391'),\n",
       " Text(0.7725988700564972, 0.7105263157894737, 'squared_error = 0.0\\nsamples = 1\\nvalue = 3.011'),\n",
       " Text(0.9322033898305084, 0.8157894736842105, 'X[0] <= -0.175\\nsquared_error = 0.075\\nsamples = 15\\nvalue = 2.631'),\n",
       " Text(0.8983050847457628, 0.7631578947368421, 'X[0] <= -0.248\\nsquared_error = 0.079\\nsamples = 9\\nvalue = 2.707'),\n",
       " Text(0.8870056497175142, 0.7105263157894737, 'X[0] <= -0.294\\nsquared_error = 0.061\\nsamples = 8\\nvalue = 2.651'),\n",
       " Text(0.8757062146892656, 0.6578947368421053, 'X[0] <= -0.367\\nsquared_error = 0.054\\nsamples = 7\\nvalue = 2.695'),\n",
       " Text(0.8531073446327684, 0.6052631578947368, 'X[0] <= -0.42\\nsquared_error = 0.045\\nsamples = 5\\nvalue = 2.601'),\n",
       " Text(0.8418079096045198, 0.5526315789473685, 'X[0] <= -0.459\\nsquared_error = 0.033\\nsamples = 4\\nvalue = 2.668'),\n",
       " Text(0.8192090395480226, 0.5, 'X[0] <= -0.487\\nsquared_error = 0.0\\nsamples = 2\\nvalue = 2.494'),\n",
       " Text(0.807909604519774, 0.4473684210526316, 'squared_error = 0.0\\nsamples = 1\\nvalue = 2.473'),\n",
       " Text(0.8305084745762712, 0.4473684210526316, 'squared_error = -0.0\\nsamples = 1\\nvalue = 2.514'),\n",
       " Text(0.864406779661017, 0.5, 'X[0] <= -0.435\\nsquared_error = 0.005\\nsamples = 2\\nvalue = 2.842'),\n",
       " Text(0.8531073446327684, 0.4473684210526316, 'squared_error = 0.0\\nsamples = 1\\nvalue = 2.77'),\n",
       " Text(0.8757062146892656, 0.4473684210526316, 'squared_error = -0.0\\nsamples = 1\\nvalue = 2.915'),\n",
       " Text(0.864406779661017, 0.5526315789473685, 'squared_error = -0.0\\nsamples = 1\\nvalue = 2.332'),\n",
       " Text(0.8983050847457628, 0.6052631578947368, 'X[0] <= -0.317\\nsquared_error = 0.002\\nsamples = 2\\nvalue = 2.929'),\n",
       " Text(0.8870056497175142, 0.5526315789473685, 'squared_error = 0.0\\nsamples = 1\\nvalue = 2.972'),\n",
       " Text(0.9096045197740112, 0.5526315789473685, 'squared_error = 0.0\\nsamples = 1\\nvalue = 2.886'),\n",
       " Text(0.8983050847457628, 0.6578947368421053, 'squared_error = 0.0\\nsamples = 1\\nvalue = 2.347'),\n",
       " Text(0.9096045197740112, 0.7105263157894737, 'squared_error = -0.0\\nsamples = 1\\nvalue = 3.152'),\n",
       " Text(0.9661016949152542, 0.7631578947368421, 'X[0] <= -0.041\\nsquared_error = 0.048\\nsamples = 6\\nvalue = 2.519'),\n",
       " Text(0.9548022598870056, 0.7105263157894737, 'X[0] <= -0.099\\nsquared_error = 0.019\\nsamples = 5\\nvalue = 2.438'),\n",
       " Text(0.9322033898305084, 0.6578947368421053, 'X[0] <= -0.126\\nsquared_error = 0.0\\nsamples = 2\\nvalue = 2.525'),\n",
       " Text(0.9209039548022598, 0.6052631578947368, 'squared_error = 0.0\\nsamples = 1\\nvalue = 2.539'),\n",
       " Text(0.943502824858757, 0.6052631578947368, 'squared_error = 0.0\\nsamples = 1\\nvalue = 2.511'),\n",
       " Text(0.9774011299435028, 0.6578947368421053, 'X[0] <= -0.066\\nsquared_error = 0.022\\nsamples = 3\\nvalue = 2.38'),\n",
       " Text(0.9661016949152542, 0.6052631578947368, 'X[0] <= -0.074\\nsquared_error = 0.008\\nsamples = 2\\nvalue = 2.287'),\n",
       " Text(0.9548022598870056, 0.5526315789473685, 'squared_error = 0.0\\nsamples = 1\\nvalue = 2.198'),\n",
       " Text(0.9774011299435028, 0.5526315789473685, 'squared_error = 0.0\\nsamples = 1\\nvalue = 2.377'),\n",
       " Text(0.9887005649717514, 0.6052631578947368, 'squared_error = 0.0\\nsamples = 1\\nvalue = 2.564'),\n",
       " Text(0.9774011299435028, 0.7105263157894737, 'squared_error = 0.0\\nsamples = 1\\nvalue = 2.922')]"
      ]
     },
     "execution_count": 31,
     "metadata": {},
     "output_type": "execute_result"
    },
    {
     "data": {
      "image/png": "[encoded data removed]",
      "text/plain": [
       "<Figure size 432x288 with 1 Axes>"
      ]
     },
     "metadata": {
      "needs_background": "light"
     },
     "output_type": "display_data"
    }
   ],
   "source": [
    "#Gráficalo y asómbrate \n",
    "tree.plot_tree(arbol,rounded=True,filled=True)"
   ]
  }
 ],
 "metadata": {
  "kernelspec": {
   "display_name": "Python 3 (ipykernel)",
   "language": "python",
   "name": "python3"
  },
  "language_info": {
   "codemirror_mode": {
    "name": "ipython",
    "version": 3
   },
   "file_extension": ".py",
   "mimetype": "text/x-python",
   "name": "python",
   "nbconvert_exporter": "python",
   "pygments_lexer": "ipython3",
   "version": "3.9.7"
  }
 },
 "nbformat": 4,
 "nbformat_minor": 5
}
